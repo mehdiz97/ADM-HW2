{
 "cells": [
  {
   "cell_type": "markdown",
   "id": "10bc05cf",
   "metadata": {},
   "source": [
    "# ADM Homework2 - Group #13\n",
    "\n",
    "### Mohammad Mehdi Razavi, mohammadmehdirazavi97@gmail.com, 2023856\n",
    "\n",
    "### Salim Sikder , sikder.1754346@studenti.uniroma1.it , 1754346\n",
    "\n",
    "### Luca Mattei , mattei.1852190@studenti.uniroma1.it 1852190\n"
   ]
  },
  {
   "cell_type": "markdown",
   "id": "585b6a40",
   "metadata": {},
   "source": [
    "## Loading and cleaning the main data and bonus data"
   ]
  },
  {
   "cell_type": "markdown",
   "id": "0bfc30ca",
   "metadata": {},
   "source": [
    "First we import the libraries.\n",
    "Then we have a function to change the timestamps into pd_datetime. We use this function to parse the main data."
   ]
  },
  {
   "cell_type": "code",
   "execution_count": 1,
   "id": "33a4740c",
   "metadata": {},
   "outputs": [],
   "source": [
    "import numpy as np\n",
    "import pandas as pd\n",
    "import matplotlib.pyplot as plt\n",
    "# We had to do some data engineering for parsing the dates and time for selected three columns.\n",
    "def dateparse(time_in_secs) :\n",
    "    return pd.to_datetime(time_in_secs, unit='s')"
   ]
  },
  {
   "cell_type": "code",
   "execution_count": 2,
   "id": "aafc8621",
   "metadata": {
    "scrolled": true
   },
   "outputs": [],
   "source": [
    "# load main data set\n",
    "dataset_main = pd.read_csv('./data/steam_reviews.csv', header='infer',\n",
    "                      parse_dates = ['timestamp_created', 'timestamp_updated', 'author.last_played'],\n",
    "                      date_parser = dateparse, low_memory=False)"
   ]
  },
  {
   "cell_type": "code",
   "execution_count": 3,
   "id": "5a5d88e8",
   "metadata": {},
   "outputs": [
    {
     "name": "stdout",
     "output_type": "stream",
     "text": [
      "<class 'pandas.core.frame.DataFrame'>\n",
      "RangeIndex: 21747371 entries, 0 to 21747370\n",
      "Data columns (total 23 columns):\n",
      " #   Column                          Dtype         \n",
      "---  ------                          -----         \n",
      " 0   Unnamed: 0                      int64         \n",
      " 1   app_id                          int64         \n",
      " 2   app_name                        object        \n",
      " 3   review_id                       int64         \n",
      " 4   language                        object        \n",
      " 5   review                          object        \n",
      " 6   timestamp_created               datetime64[ns]\n",
      " 7   timestamp_updated               datetime64[ns]\n",
      " 8   recommended                     bool          \n",
      " 9   votes_helpful                   int64         \n",
      " 10  votes_funny                     int64         \n",
      " 11  weighted_vote_score             float64       \n",
      " 12  comment_count                   int64         \n",
      " 13  steam_purchase                  bool          \n",
      " 14  received_for_free               bool          \n",
      " 15  written_during_early_access     bool          \n",
      " 16  author.steamid                  int64         \n",
      " 17  author.num_games_owned          int64         \n",
      " 18  author.num_reviews              int64         \n",
      " 19  author.playtime_forever         float64       \n",
      " 20  author.playtime_last_two_weeks  float64       \n",
      " 21  author.playtime_at_review       float64       \n",
      " 22  author.last_played              datetime64[ns]\n",
      "dtypes: bool(4), datetime64[ns](3), float64(4), int64(9), object(3)\n",
      "memory usage: 3.2+ GB\n"
     ]
    }
   ],
   "source": [
    "dataset_main.info()"
   ]
  },
  {
   "cell_type": "markdown",
   "id": "60fb3cf6",
   "metadata": {},
   "source": [
    "## Load the bonus data\n",
    "\n",
    "After loading the bonus data we saw that there are some differences compared to the main data.\n",
    "The columns related to the timestamps were mixed types of float and string. Also we have some differences in other columns.\n",
    "So we use a function(Convert_dtype) to change the types of these columns.\n",
    "In addition, there was an extra column which we dropped. We do these things exactly for the second part of bonus data."
   ]
  },
  {
   "cell_type": "code",
   "execution_count": 3,
   "id": "43bb859d",
   "metadata": {
    "scrolled": true
   },
   "outputs": [],
   "source": [
    "# for converting the object into the int64\n",
    "# in some columns we have both float and string data type and even we have some strings that they dont represent a number \n",
    "# for example we have False saved as a string. and even we have a string like this : ' '\n",
    "# so, first check if x is string we change it to float and then int. if it is a string like 'False' or ' ' \n",
    "# we return zero instead and then we drop these rows\n",
    "# in the else part we just change the float number into int\n",
    "def convert_dtype(x):\n",
    "    if type(x) == str:\n",
    "        try:\n",
    "            return np.int64(np.float64(x))\n",
    "        except:\n",
    "            return 0\n",
    "    else:\n",
    "        return np.int64(x)\n",
    "\n",
    "# for converting the object into the boolean\n",
    "def convert_dtype1(x):\n",
    "    if not x:\n",
    "        return False\n",
    "    try:\n",
    "        return True   \n",
    "    except:        \n",
    "        return False\n",
    "dataset_bonus1 = pd.read_csv('./data/steam_reviews_bonus_1.csv' , header='infer',\n",
    "                             low_memory=False,\n",
    "                             converters={'timestamp_updated': convert_dtype,\n",
    "                                         'recommended':convert_dtype1,\n",
    "                                         'votes_helpful':convert_dtype,\n",
    "                                         'steam_purchase':convert_dtype1,\n",
    "                                         'received_for_free':convert_dtype1,\n",
    "                                         'written_during_early_access':convert_dtype1,\n",
    "                                         'app_id': convert_dtype,\n",
    "                                         'votes_funny':convert_dtype,\n",
    "                                         'comment_count':convert_dtype,\n",
    "                                         'author.steamid':convert_dtype,\n",
    "                                         'author.num_games_owned':convert_dtype,\n",
    "                                         'author.num_reviews':convert_dtype})\n"
   ]
  },
  {
   "cell_type": "code",
   "execution_count": 4,
   "id": "4402423e",
   "metadata": {},
   "outputs": [],
   "source": [
    "# droping the extra column\n",
    "\n",
    "dataset_bonus1 = dataset_bonus1.drop( columns = ['Unnamed: 0.1'])"
   ]
  },
  {
   "cell_type": "code",
   "execution_count": 5,
   "id": "30fc046b",
   "metadata": {},
   "outputs": [],
   "source": [
    "# change the timestamps columns to date time\n",
    "i = dataset_bonus1[(dataset_bonus1.timestamp_updated == 0)].index\n",
    "dataset_bonus1 = dataset_bonus1.drop(i)\n",
    "\n",
    "dataset_bonus1['timestamp_created'] = pd.to_datetime(dataset_bonus1['timestamp_created'], unit='s')\n",
    "dataset_bonus1['timestamp_updated'] = pd.to_datetime(dataset_bonus1['timestamp_updated'], unit='s')\n",
    "dataset_bonus1['author.last_played'] = pd.to_datetime(dataset_bonus1['author.last_played'], unit='s')\n"
   ]
  },
  {
   "cell_type": "code",
   "execution_count": 7,
   "id": "26a2e9e1",
   "metadata": {},
   "outputs": [
    {
     "name": "stdout",
     "output_type": "stream",
     "text": [
      "<class 'pandas.core.frame.DataFrame'>\n",
      "Int64Index: 9999996 entries, 0 to 10000003\n",
      "Data columns (total 23 columns):\n",
      " #   Column                          Dtype         \n",
      "---  ------                          -----         \n",
      " 0   Unnamed: 0                      object        \n",
      " 1   app_id                          int64         \n",
      " 2   app_name                        object        \n",
      " 3   review_id                       int64         \n",
      " 4   language                        object        \n",
      " 5   review                          object        \n",
      " 6   timestamp_created               datetime64[ns]\n",
      " 7   timestamp_updated               datetime64[ns]\n",
      " 8   recommended                     bool          \n",
      " 9   votes_helpful                   int64         \n",
      " 10  votes_funny                     int64         \n",
      " 11  weighted_vote_score             float64       \n",
      " 12  comment_count                   int64         \n",
      " 13  steam_purchase                  bool          \n",
      " 14  received_for_free               bool          \n",
      " 15  written_during_early_access     bool          \n",
      " 16  author.steamid                  int64         \n",
      " 17  author.num_games_owned          int64         \n",
      " 18  author.num_reviews              int64         \n",
      " 19  author.playtime_forever         float64       \n",
      " 20  author.playtime_last_two_weeks  float64       \n",
      " 21  author.playtime_at_review       float64       \n",
      " 22  author.last_played              datetime64[ns]\n",
      "dtypes: bool(4), datetime64[ns](3), float64(4), int64(8), object(4)\n",
      "memory usage: 1.5+ GB\n"
     ]
    }
   ],
   "source": [
    "dataset_bonus1.info()"
   ]
  },
  {
   "cell_type": "markdown",
   "id": "b5d9d9ab",
   "metadata": {},
   "source": [
    "You can see a summary of the bonus data part1 above.\n",
    "\n",
    "Now we load the second part of the bonus data and perform the exact operations on it."
   ]
  },
  {
   "cell_type": "code",
   "execution_count": 6,
   "id": "f468a854",
   "metadata": {},
   "outputs": [],
   "source": [
    "dataset_bonus2 = pd.read_csv('./data/steam_reviews_bonus_2.csv' , header='infer',\n",
    "                             low_memory=False,\n",
    "                             converters={'timestamp_updated': convert_dtype,\n",
    "                                         'recommended':convert_dtype1,\n",
    "                                         'votes_helpful':convert_dtype,\n",
    "                                         'steam_purchase':convert_dtype1,\n",
    "                                         'received_for_free':convert_dtype1,\n",
    "                                         'written_during_early_access':convert_dtype1,\n",
    "                                         'app_id': convert_dtype,\n",
    "                                         'votes_funny':convert_dtype,\n",
    "                                         'comment_count':convert_dtype,\n",
    "                                         'author.steamid':convert_dtype,\n",
    "                                         'author.num_games_owned':convert_dtype,\n",
    "                                         'author.num_reviews':convert_dtype})"
   ]
  },
  {
   "cell_type": "code",
   "execution_count": 7,
   "id": "afcc9972",
   "metadata": {},
   "outputs": [],
   "source": [
    "# droping the extra column\n",
    "\n",
    "dataset_bonus2 = dataset_bonus2.drop( columns = ['Unnamed: 0.1'])"
   ]
  },
  {
   "cell_type": "code",
   "execution_count": 8,
   "id": "807acfe0",
   "metadata": {},
   "outputs": [],
   "source": [
    "# change the timestamps columns to date time\n",
    "\n",
    "i = dataset_bonus2[(dataset_bonus2.timestamp_updated == 0)].index\n",
    "dataset_bonus2 = dataset_bonus2.drop(i)\n",
    "\n",
    "dataset_bonus2['timestamp_created'] = pd.to_datetime(dataset_bonus2['timestamp_created'], unit='s')\n",
    "dataset_bonus2['timestamp_updated'] = pd.to_datetime(dataset_bonus2['timestamp_updated'], unit='s')\n",
    "dataset_bonus2['author.last_played'] = pd.to_datetime(dataset_bonus2['author.last_played'], unit='s')\n"
   ]
  },
  {
   "cell_type": "code",
   "execution_count": 11,
   "id": "33b56c72",
   "metadata": {},
   "outputs": [
    {
     "name": "stdout",
     "output_type": "stream",
     "text": [
      "<class 'pandas.core.frame.DataFrame'>\n",
      "Int64Index: 6999996 entries, 0 to 7000003\n",
      "Data columns (total 23 columns):\n",
      " #   Column                          Dtype         \n",
      "---  ------                          -----         \n",
      " 0   Unnamed: 0                      object        \n",
      " 1   app_id                          int64         \n",
      " 2   app_name                        object        \n",
      " 3   review_id                       int64         \n",
      " 4   language                        object        \n",
      " 5   review                          object        \n",
      " 6   timestamp_created               datetime64[ns]\n",
      " 7   timestamp_updated               datetime64[ns]\n",
      " 8   recommended                     bool          \n",
      " 9   votes_helpful                   int64         \n",
      " 10  votes_funny                     int64         \n",
      " 11  weighted_vote_score             float64       \n",
      " 12  comment_count                   int64         \n",
      " 13  steam_purchase                  bool          \n",
      " 14  received_for_free               bool          \n",
      " 15  written_during_early_access     bool          \n",
      " 16  author.steamid                  int64         \n",
      " 17  author.num_games_owned          int64         \n",
      " 18  author.num_reviews              int64         \n",
      " 19  author.playtime_forever         float64       \n",
      " 20  author.playtime_last_two_weeks  float64       \n",
      " 21  author.playtime_at_review       float64       \n",
      " 22  author.last_played              datetime64[ns]\n",
      "dtypes: bool(4), datetime64[ns](3), float64(4), int64(8), object(4)\n",
      "memory usage: 1.1+ GB\n"
     ]
    }
   ],
   "source": [
    "dataset_bonus2.info()"
   ]
  },
  {
   "cell_type": "markdown",
   "id": "42cb0feb",
   "metadata": {},
   "source": [
    "### Merge all three parts."
   ]
  },
  {
   "cell_type": "code",
   "execution_count": 9,
   "id": "a8646b6f",
   "metadata": {},
   "outputs": [],
   "source": [
    "frames = [dataset_main, dataset_bonus1, dataset_bonus2]\n",
    "\n",
    "dataset = pd.concat(frames)"
   ]
  },
  {
   "cell_type": "markdown",
   "id": "fc8e051c",
   "metadata": {},
   "source": [
    "# Research questions\n"
   ]
  },
  {
   "cell_type": "markdown",
   "id": "22438c95",
   "metadata": {},
   "source": [
    "# RQ1\n",
    "After collecting information, the Data Scientists have to know what dataset they are dealing with, so let's start with an Exploratory Data Analysis (EDA). What can you say about our dataset? Please summarize its main characteristics with visual and tabular methods."
   ]
  },
  {
   "cell_type": "code",
   "execution_count": 13,
   "id": "080dbb09",
   "metadata": {},
   "outputs": [
    {
     "data": {
      "text/plain": [
       "(38747363, 23)"
      ]
     },
     "execution_count": 13,
     "metadata": {},
     "output_type": "execute_result"
    }
   ],
   "source": [
    "dataset.shape"
   ]
  },
  {
   "cell_type": "code",
   "execution_count": 12,
   "id": "a385523e",
   "metadata": {},
   "outputs": [
    {
     "data": {
      "text/html": [
       "<div>\n",
       "<style scoped>\n",
       "    .dataframe tbody tr th:only-of-type {\n",
       "        vertical-align: middle;\n",
       "    }\n",
       "\n",
       "    .dataframe tbody tr th {\n",
       "        vertical-align: top;\n",
       "    }\n",
       "\n",
       "    .dataframe thead th {\n",
       "        text-align: right;\n",
       "    }\n",
       "</style>\n",
       "<table border=\"1\" class=\"dataframe\">\n",
       "  <thead>\n",
       "    <tr style=\"text-align: right;\">\n",
       "      <th></th>\n",
       "      <th>Unnamed: 0</th>\n",
       "      <th>app_id</th>\n",
       "      <th>app_name</th>\n",
       "      <th>review_id</th>\n",
       "      <th>language</th>\n",
       "      <th>review</th>\n",
       "      <th>timestamp_created</th>\n",
       "      <th>timestamp_updated</th>\n",
       "      <th>recommended</th>\n",
       "      <th>votes_helpful</th>\n",
       "      <th>...</th>\n",
       "      <th>steam_purchase</th>\n",
       "      <th>received_for_free</th>\n",
       "      <th>written_during_early_access</th>\n",
       "      <th>author.steamid</th>\n",
       "      <th>author.num_games_owned</th>\n",
       "      <th>author.num_reviews</th>\n",
       "      <th>author.playtime_forever</th>\n",
       "      <th>author.playtime_last_two_weeks</th>\n",
       "      <th>author.playtime_at_review</th>\n",
       "      <th>author.last_played</th>\n",
       "    </tr>\n",
       "  </thead>\n",
       "  <tbody>\n",
       "    <tr>\n",
       "      <th>0</th>\n",
       "      <td>0</td>\n",
       "      <td>292030</td>\n",
       "      <td>The Witcher 3: Wild Hunt</td>\n",
       "      <td>85185598</td>\n",
       "      <td>schinese</td>\n",
       "      <td>不玩此生遗憾，RPG游戏里的天花板，太吸引人了</td>\n",
       "      <td>2021-01-23 06:00:29</td>\n",
       "      <td>2021-01-23 06:00:29</td>\n",
       "      <td>True</td>\n",
       "      <td>0</td>\n",
       "      <td>...</td>\n",
       "      <td>True</td>\n",
       "      <td>False</td>\n",
       "      <td>False</td>\n",
       "      <td>76561199095369542</td>\n",
       "      <td>6</td>\n",
       "      <td>2</td>\n",
       "      <td>1909.0</td>\n",
       "      <td>1448.0</td>\n",
       "      <td>1909.0</td>\n",
       "      <td>2021-01-22 19:23:03.000000000</td>\n",
       "    </tr>\n",
       "    <tr>\n",
       "      <th>1</th>\n",
       "      <td>1</td>\n",
       "      <td>292030</td>\n",
       "      <td>The Witcher 3: Wild Hunt</td>\n",
       "      <td>85185250</td>\n",
       "      <td>schinese</td>\n",
       "      <td>拔DIAO无情打桩机--杰洛特!!!</td>\n",
       "      <td>2021-01-23 05:50:30</td>\n",
       "      <td>2021-01-23 05:50:30</td>\n",
       "      <td>True</td>\n",
       "      <td>0</td>\n",
       "      <td>...</td>\n",
       "      <td>True</td>\n",
       "      <td>False</td>\n",
       "      <td>False</td>\n",
       "      <td>76561198949504115</td>\n",
       "      <td>30</td>\n",
       "      <td>10</td>\n",
       "      <td>2764.0</td>\n",
       "      <td>2743.0</td>\n",
       "      <td>2674.0</td>\n",
       "      <td>2021-01-23 07:18:27.000000000</td>\n",
       "    </tr>\n",
       "    <tr>\n",
       "      <th>2</th>\n",
       "      <td>2</td>\n",
       "      <td>292030</td>\n",
       "      <td>The Witcher 3: Wild Hunt</td>\n",
       "      <td>85185111</td>\n",
       "      <td>schinese</td>\n",
       "      <td>巫师3NB</td>\n",
       "      <td>2021-01-23 05:46:40</td>\n",
       "      <td>2021-01-23 05:46:40</td>\n",
       "      <td>True</td>\n",
       "      <td>0</td>\n",
       "      <td>...</td>\n",
       "      <td>True</td>\n",
       "      <td>False</td>\n",
       "      <td>False</td>\n",
       "      <td>76561199090098988</td>\n",
       "      <td>5</td>\n",
       "      <td>1</td>\n",
       "      <td>1061.0</td>\n",
       "      <td>1061.0</td>\n",
       "      <td>1060.0</td>\n",
       "      <td>2021-01-23 06:36:17.000000000</td>\n",
       "    </tr>\n",
       "    <tr>\n",
       "      <th>3</th>\n",
       "      <td>3</td>\n",
       "      <td>292030</td>\n",
       "      <td>The Witcher 3: Wild Hunt</td>\n",
       "      <td>85184605</td>\n",
       "      <td>english</td>\n",
       "      <td>One of the best RPG's of all time, worthy of a...</td>\n",
       "      <td>2021-01-23 05:32:50</td>\n",
       "      <td>2021-01-23 05:32:50</td>\n",
       "      <td>True</td>\n",
       "      <td>0</td>\n",
       "      <td>...</td>\n",
       "      <td>True</td>\n",
       "      <td>False</td>\n",
       "      <td>False</td>\n",
       "      <td>76561199054755373</td>\n",
       "      <td>5</td>\n",
       "      <td>3</td>\n",
       "      <td>5587.0</td>\n",
       "      <td>3200.0</td>\n",
       "      <td>5524.0</td>\n",
       "      <td>2021-01-23 06:35:44.000000000</td>\n",
       "    </tr>\n",
       "    <tr>\n",
       "      <th>4</th>\n",
       "      <td>4</td>\n",
       "      <td>292030</td>\n",
       "      <td>The Witcher 3: Wild Hunt</td>\n",
       "      <td>85184287</td>\n",
       "      <td>schinese</td>\n",
       "      <td>大作</td>\n",
       "      <td>2021-01-23 05:23:47</td>\n",
       "      <td>2021-01-23 05:23:47</td>\n",
       "      <td>True</td>\n",
       "      <td>0</td>\n",
       "      <td>...</td>\n",
       "      <td>True</td>\n",
       "      <td>False</td>\n",
       "      <td>False</td>\n",
       "      <td>76561199028326951</td>\n",
       "      <td>7</td>\n",
       "      <td>4</td>\n",
       "      <td>217.0</td>\n",
       "      <td>42.0</td>\n",
       "      <td>217.0</td>\n",
       "      <td>2021-01-16 09:10:49.000000000</td>\n",
       "    </tr>\n",
       "    <tr>\n",
       "      <th>...</th>\n",
       "      <td>...</td>\n",
       "      <td>...</td>\n",
       "      <td>...</td>\n",
       "      <td>...</td>\n",
       "      <td>...</td>\n",
       "      <td>...</td>\n",
       "      <td>...</td>\n",
       "      <td>...</td>\n",
       "      <td>...</td>\n",
       "      <td>...</td>\n",
       "      <td>...</td>\n",
       "      <td>...</td>\n",
       "      <td>...</td>\n",
       "      <td>...</td>\n",
       "      <td>...</td>\n",
       "      <td>...</td>\n",
       "      <td>...</td>\n",
       "      <td>...</td>\n",
       "      <td>...</td>\n",
       "      <td>...</td>\n",
       "      <td>...</td>\n",
       "    </tr>\n",
       "    <tr>\n",
       "      <th>6999999</th>\n",
       "      <td>6999995</td>\n",
       "      <td>323190</td>\n",
       "      <td>Frostpunk</td>\n",
       "      <td>46994790</td>\n",
       "      <td>spanish</td>\n",
       "      <td>Frio y nieve : 10/10\\nPunk: 9/10\\n\\nCumple con...</td>\n",
       "      <td>2018-06-08 19:40:34</td>\n",
       "      <td>1970-01-01 00:00:00</td>\n",
       "      <td>True</td>\n",
       "      <td>1</td>\n",
       "      <td>...</td>\n",
       "      <td>True</td>\n",
       "      <td>True</td>\n",
       "      <td>True</td>\n",
       "      <td>76561197913314939</td>\n",
       "      <td>35</td>\n",
       "      <td>1</td>\n",
       "      <td>4064.0</td>\n",
       "      <td>0.0</td>\n",
       "      <td>1287.0</td>\n",
       "      <td>2018-02-06 17:06:43.719246336</td>\n",
       "    </tr>\n",
       "    <tr>\n",
       "      <th>7000000</th>\n",
       "      <td>6999996</td>\n",
       "      <td>323190</td>\n",
       "      <td>Frostpunk</td>\n",
       "      <td>46994076</td>\n",
       "      <td>english</td>\n",
       "      <td>Good fun but not much replayability so limited...</td>\n",
       "      <td>2014-02-13 18:52:47</td>\n",
       "      <td>1970-01-01 00:00:00</td>\n",
       "      <td>True</td>\n",
       "      <td>1</td>\n",
       "      <td>...</td>\n",
       "      <td>True</td>\n",
       "      <td>True</td>\n",
       "      <td>True</td>\n",
       "      <td>76561197861661016</td>\n",
       "      <td>8</td>\n",
       "      <td>1</td>\n",
       "      <td>343.0</td>\n",
       "      <td>0.0</td>\n",
       "      <td>235.0</td>\n",
       "      <td>2013-10-23 06:25:56.117700352</td>\n",
       "    </tr>\n",
       "    <tr>\n",
       "      <th>7000001</th>\n",
       "      <td>6999997</td>\n",
       "      <td>323190</td>\n",
       "      <td>Frostpunk</td>\n",
       "      <td>46993891</td>\n",
       "      <td>english</td>\n",
       "      <td>===[  Audience: ]===\\nKids \\nEveryone\\nCasual ...</td>\n",
       "      <td>2018-12-19 19:51:59</td>\n",
       "      <td>1970-01-01 00:00:00</td>\n",
       "      <td>True</td>\n",
       "      <td>0</td>\n",
       "      <td>...</td>\n",
       "      <td>True</td>\n",
       "      <td>True</td>\n",
       "      <td>True</td>\n",
       "      <td>76561197876266689</td>\n",
       "      <td>62</td>\n",
       "      <td>4</td>\n",
       "      <td>1299.0</td>\n",
       "      <td>0.0</td>\n",
       "      <td>1200.0</td>\n",
       "      <td>2018-07-08 15:27:23.052892672</td>\n",
       "    </tr>\n",
       "    <tr>\n",
       "      <th>7000002</th>\n",
       "      <td>6999998</td>\n",
       "      <td>323190</td>\n",
       "      <td>Frostpunk</td>\n",
       "      <td>46993752</td>\n",
       "      <td>spanish</td>\n",
       "      <td>Excelente!.</td>\n",
       "      <td>2003-05-03 13:04:29</td>\n",
       "      <td>1970-01-01 00:00:00</td>\n",
       "      <td>True</td>\n",
       "      <td>0</td>\n",
       "      <td>...</td>\n",
       "      <td>True</td>\n",
       "      <td>True</td>\n",
       "      <td>True</td>\n",
       "      <td>76561197908075933</td>\n",
       "      <td>91</td>\n",
       "      <td>3</td>\n",
       "      <td>1680.0</td>\n",
       "      <td>0.0</td>\n",
       "      <td>910.0</td>\n",
       "      <td>2003-03-13 22:50:57.968475520</td>\n",
       "    </tr>\n",
       "    <tr>\n",
       "      <th>7000003</th>\n",
       "      <td>6999999</td>\n",
       "      <td>323190</td>\n",
       "      <td>Frostpunk</td>\n",
       "      <td>46993657</td>\n",
       "      <td>german</td>\n",
       "      <td>Been a while, since a game got me this hard!\\n...</td>\n",
       "      <td>2016-09-24 10:24:56</td>\n",
       "      <td>1970-01-01 00:00:00</td>\n",
       "      <td>True</td>\n",
       "      <td>0</td>\n",
       "      <td>...</td>\n",
       "      <td>True</td>\n",
       "      <td>True</td>\n",
       "      <td>True</td>\n",
       "      <td>76561197863971263</td>\n",
       "      <td>44</td>\n",
       "      <td>2</td>\n",
       "      <td>693.0</td>\n",
       "      <td>0.0</td>\n",
       "      <td>467.0</td>\n",
       "      <td>2016-06-27 05:10:40.242964736</td>\n",
       "    </tr>\n",
       "  </tbody>\n",
       "</table>\n",
       "<p>38747379 rows × 23 columns</p>\n",
       "</div>"
      ],
      "text/plain": [
       "        Unnamed: 0  app_id                  app_name  review_id  language  \\\n",
       "0                0  292030  The Witcher 3: Wild Hunt   85185598  schinese   \n",
       "1                1  292030  The Witcher 3: Wild Hunt   85185250  schinese   \n",
       "2                2  292030  The Witcher 3: Wild Hunt   85185111  schinese   \n",
       "3                3  292030  The Witcher 3: Wild Hunt   85184605   english   \n",
       "4                4  292030  The Witcher 3: Wild Hunt   85184287  schinese   \n",
       "...            ...     ...                       ...        ...       ...   \n",
       "6999999    6999995  323190                 Frostpunk   46994790   spanish   \n",
       "7000000    6999996  323190                 Frostpunk   46994076   english   \n",
       "7000001    6999997  323190                 Frostpunk   46993891   english   \n",
       "7000002    6999998  323190                 Frostpunk   46993752   spanish   \n",
       "7000003    6999999  323190                 Frostpunk   46993657    german   \n",
       "\n",
       "                                                    review  \\\n",
       "0                                  不玩此生遗憾，RPG游戏里的天花板，太吸引人了   \n",
       "1                                       拔DIAO无情打桩机--杰洛特!!!   \n",
       "2                                                    巫师3NB   \n",
       "3        One of the best RPG's of all time, worthy of a...   \n",
       "4                                                       大作   \n",
       "...                                                    ...   \n",
       "6999999  Frio y nieve : 10/10\\nPunk: 9/10\\n\\nCumple con...   \n",
       "7000000  Good fun but not much replayability so limited...   \n",
       "7000001  ===[  Audience: ]===\\nKids \\nEveryone\\nCasual ...   \n",
       "7000002                                        Excelente!.   \n",
       "7000003  Been a while, since a game got me this hard!\\n...   \n",
       "\n",
       "          timestamp_created   timestamp_updated  recommended  votes_helpful  \\\n",
       "0       2021-01-23 06:00:29 2021-01-23 06:00:29         True              0   \n",
       "1       2021-01-23 05:50:30 2021-01-23 05:50:30         True              0   \n",
       "2       2021-01-23 05:46:40 2021-01-23 05:46:40         True              0   \n",
       "3       2021-01-23 05:32:50 2021-01-23 05:32:50         True              0   \n",
       "4       2021-01-23 05:23:47 2021-01-23 05:23:47         True              0   \n",
       "...                     ...                 ...          ...            ...   \n",
       "6999999 2018-06-08 19:40:34 1970-01-01 00:00:00         True              1   \n",
       "7000000 2014-02-13 18:52:47 1970-01-01 00:00:00         True              1   \n",
       "7000001 2018-12-19 19:51:59 1970-01-01 00:00:00         True              0   \n",
       "7000002 2003-05-03 13:04:29 1970-01-01 00:00:00         True              0   \n",
       "7000003 2016-09-24 10:24:56 1970-01-01 00:00:00         True              0   \n",
       "\n",
       "         ...  steam_purchase  received_for_free  written_during_early_access  \\\n",
       "0        ...            True              False                        False   \n",
       "1        ...            True              False                        False   \n",
       "2        ...            True              False                        False   \n",
       "3        ...            True              False                        False   \n",
       "4        ...            True              False                        False   \n",
       "...      ...             ...                ...                          ...   \n",
       "6999999  ...            True               True                         True   \n",
       "7000000  ...            True               True                         True   \n",
       "7000001  ...            True               True                         True   \n",
       "7000002  ...            True               True                         True   \n",
       "7000003  ...            True               True                         True   \n",
       "\n",
       "            author.steamid  author.num_games_owned  author.num_reviews  \\\n",
       "0        76561199095369542                       6                   2   \n",
       "1        76561198949504115                      30                  10   \n",
       "2        76561199090098988                       5                   1   \n",
       "3        76561199054755373                       5                   3   \n",
       "4        76561199028326951                       7                   4   \n",
       "...                    ...                     ...                 ...   \n",
       "6999999  76561197913314939                      35                   1   \n",
       "7000000  76561197861661016                       8                   1   \n",
       "7000001  76561197876266689                      62                   4   \n",
       "7000002  76561197908075933                      91                   3   \n",
       "7000003  76561197863971263                      44                   2   \n",
       "\n",
       "         author.playtime_forever  author.playtime_last_two_weeks  \\\n",
       "0                         1909.0                          1448.0   \n",
       "1                         2764.0                          2743.0   \n",
       "2                         1061.0                          1061.0   \n",
       "3                         5587.0                          3200.0   \n",
       "4                          217.0                            42.0   \n",
       "...                          ...                             ...   \n",
       "6999999                   4064.0                             0.0   \n",
       "7000000                    343.0                             0.0   \n",
       "7000001                   1299.0                             0.0   \n",
       "7000002                   1680.0                             0.0   \n",
       "7000003                    693.0                             0.0   \n",
       "\n",
       "         author.playtime_at_review            author.last_played  \n",
       "0                           1909.0 2021-01-22 19:23:03.000000000  \n",
       "1                           2674.0 2021-01-23 07:18:27.000000000  \n",
       "2                           1060.0 2021-01-23 06:36:17.000000000  \n",
       "3                           5524.0 2021-01-23 06:35:44.000000000  \n",
       "4                            217.0 2021-01-16 09:10:49.000000000  \n",
       "...                            ...                           ...  \n",
       "6999999                     1287.0 2018-02-06 17:06:43.719246336  \n",
       "7000000                      235.0 2013-10-23 06:25:56.117700352  \n",
       "7000001                     1200.0 2018-07-08 15:27:23.052892672  \n",
       "7000002                      910.0 2003-03-13 22:50:57.968475520  \n",
       "7000003                      467.0 2016-06-27 05:10:40.242964736  \n",
       "\n",
       "[38747379 rows x 23 columns]"
      ]
     },
     "execution_count": 12,
     "metadata": {},
     "output_type": "execute_result"
    }
   ],
   "source": [
    "dataset.drop_duplicates()"
   ]
  },
  {
   "cell_type": "markdown",
   "id": "567bcc74",
   "metadata": {},
   "source": [
    "### After cheking wheter there is any repeated row in data, we write the whole data into one file in order to be easier to work on data for the next times."
   ]
  },
  {
   "cell_type": "code",
   "execution_count": 12,
   "id": "56d13979",
   "metadata": {},
   "outputs": [],
   "source": [
    "# dataset.to_csv('./data/dataset.csv')"
   ]
  },
  {
   "cell_type": "code",
   "execution_count": 17,
   "id": "f0dfcde8",
   "metadata": {},
   "outputs": [],
   "source": [
    "# # for the second run we read one single csv file.\n",
    "# # this part is optional. we did this for not have to read and change the columns type of bonus data each time.\n",
    "\n",
    "# import numpy as np\n",
    "# import pandas as pd\n",
    "# import matplotlib.pyplot as plt\n",
    "# # We had to do some data engineering for parsing the dates and time for selected three columns.\n",
    "# def dateparse(time_in_secs) :\n",
    "#     return pd.to_datetime(time_in_secs, unit='s')\n",
    "# dataset = pd.read_csv('./data/dataset.csv', header='infer',\n",
    "#                       parse_dates = ['timestamp_created', 'timestamp_updated', 'author.last_played'],\n",
    "#                       date_parser = dateparse, low_memory=False)"
   ]
  },
  {
   "cell_type": "markdown",
   "id": "85f2c6c3",
   "metadata": {},
   "source": [
    "Our data set has 23 columns and 38,747,363  rows."
   ]
  },
  {
   "cell_type": "code",
   "execution_count": 14,
   "id": "c22fdf5a",
   "metadata": {},
   "outputs": [
    {
     "name": "stdout",
     "output_type": "stream",
     "text": [
      "<class 'pandas.core.frame.DataFrame'>\n",
      "Int64Index: 38747363 entries, 0 to 7000003\n",
      "Data columns (total 23 columns):\n",
      " #   Column                          Dtype         \n",
      "---  ------                          -----         \n",
      " 0   Unnamed: 0                      object        \n",
      " 1   app_id                          int64         \n",
      " 2   app_name                        object        \n",
      " 3   review_id                       int64         \n",
      " 4   language                        object        \n",
      " 5   review                          object        \n",
      " 6   timestamp_created               datetime64[ns]\n",
      " 7   timestamp_updated               datetime64[ns]\n",
      " 8   recommended                     bool          \n",
      " 9   votes_helpful                   int64         \n",
      " 10  votes_funny                     int64         \n",
      " 11  weighted_vote_score             float64       \n",
      " 12  comment_count                   int64         \n",
      " 13  steam_purchase                  bool          \n",
      " 14  received_for_free               bool          \n",
      " 15  written_during_early_access     bool          \n",
      " 16  author.steamid                  int64         \n",
      " 17  author.num_games_owned          int64         \n",
      " 18  author.num_reviews              int64         \n",
      " 19  author.playtime_forever         float64       \n",
      " 20  author.playtime_last_two_weeks  float64       \n",
      " 21  author.playtime_at_review       float64       \n",
      " 22  author.last_played              datetime64[ns]\n",
      "dtypes: bool(4), datetime64[ns](3), float64(4), int64(8), object(4)\n",
      "memory usage: 5.9+ GB\n"
     ]
    }
   ],
   "source": [
    "# A brief summary of our data to get a better understanding of data.\n",
    "# Here we can see that out of 23 columns, we have 4 boolean, 5 float,\n",
    "# 11 integer and 3 object.\n",
    "\n",
    "dataset.info()"
   ]
  },
  {
   "cell_type": "code",
   "execution_count": 15,
   "id": "ba15bfbc",
   "metadata": {},
   "outputs": [
    {
     "data": {
      "text/plain": [
       "<AxesSubplot:xlabel='app_name'>"
      ]
     },
     "execution_count": 15,
     "metadata": {},
     "output_type": "execute_result"
    },
    {
     "data": {
      "image/png": "[encoded data removed]",
      "text/plain": [
       "<Figure size 576x576 with 1 Axes>"
      ]
     },
     "metadata": {
      "needs_background": "light"
     },
     "output_type": "display_data"
    }
   ],
   "source": [
    "# names of top 20 games which got the most reviews.\n",
    "dataset.groupby('app_name').review_id.count().sort_values(ascending=False).head(20).plot.bar(figsize = (8,8))\n"
   ]
  },
  {
   "cell_type": "code",
   "execution_count": 16,
   "id": "a0ece079",
   "metadata": {},
   "outputs": [
    {
     "data": {
      "text/plain": [
       "<AxesSubplot:ylabel='app_id'>"
      ]
     },
     "execution_count": 16,
     "metadata": {},
     "output_type": "execute_result"
    },
    {
     "data": {
      "image/png": "[encoded data removed]",
      "text/plain": [
       "<Figure size 576x576 with 1 Axes>"
      ]
     },
     "metadata": {},
     "output_type": "display_data"
    }
   ],
   "source": [
    "# Percentage of the reviews that recommended the game.\n",
    "ax = plt.subplot(111)\n",
    "dataset.groupby('recommended').count().app_id.plot(kind='pie', ax=ax, autopct='%1.1f%%',\\\n",
    "                                                   figsize=(8,8),startangle=270, fontsize=17)"
   ]
  },
  {
   "cell_type": "code",
   "execution_count": 17,
   "id": "a237685b",
   "metadata": {
    "scrolled": true
   },
   "outputs": [
    {
     "data": {
      "text/html": [
       "<div>\n",
       "<style scoped>\n",
       "    .dataframe tbody tr th:only-of-type {\n",
       "        vertical-align: middle;\n",
       "    }\n",
       "\n",
       "    .dataframe tbody tr th {\n",
       "        vertical-align: top;\n",
       "    }\n",
       "\n",
       "    .dataframe thead th {\n",
       "        text-align: right;\n",
       "    }\n",
       "</style>\n",
       "<table border=\"1\" class=\"dataframe\">\n",
       "  <thead>\n",
       "    <tr style=\"text-align: right;\">\n",
       "      <th></th>\n",
       "      <th>review_id</th>\n",
       "      <th>votes_helpful</th>\n",
       "    </tr>\n",
       "  </thead>\n",
       "  <tbody>\n",
       "    <tr>\n",
       "      <th>10751984</th>\n",
       "      <td>63684360</td>\n",
       "      <td>4398046511106</td>\n",
       "    </tr>\n",
       "    <tr>\n",
       "      <th>2071183</th>\n",
       "      <td>37023774</td>\n",
       "      <td>4398046511106</td>\n",
       "    </tr>\n",
       "    <tr>\n",
       "      <th>10449392</th>\n",
       "      <td>23973728</td>\n",
       "      <td>4398046511104</td>\n",
       "    </tr>\n",
       "    <tr>\n",
       "      <th>3125114</th>\n",
       "      <td>61025014</td>\n",
       "      <td>4398046511104</td>\n",
       "    </tr>\n",
       "    <tr>\n",
       "      <th>5806427</th>\n",
       "      <td>32334698</td>\n",
       "      <td>29608</td>\n",
       "    </tr>\n",
       "    <tr>\n",
       "      <th>4276395</th>\n",
       "      <td>56877039</td>\n",
       "      <td>29608</td>\n",
       "    </tr>\n",
       "    <tr>\n",
       "      <th>7824298</th>\n",
       "      <td>8445609</td>\n",
       "      <td>28211</td>\n",
       "    </tr>\n",
       "    <tr>\n",
       "      <th>7914834</th>\n",
       "      <td>41359655</td>\n",
       "      <td>28211</td>\n",
       "    </tr>\n",
       "    <tr>\n",
       "      <th>20261550</th>\n",
       "      <td>31396746</td>\n",
       "      <td>26149</td>\n",
       "    </tr>\n",
       "    <tr>\n",
       "      <th>15079531</th>\n",
       "      <td>36686133</td>\n",
       "      <td>19927</td>\n",
       "    </tr>\n",
       "  </tbody>\n",
       "</table>\n",
       "</div>"
      ],
      "text/plain": [
       "          review_id  votes_helpful\n",
       "10751984   63684360  4398046511106\n",
       "2071183    37023774  4398046511106\n",
       "10449392   23973728  4398046511104\n",
       "3125114    61025014  4398046511104\n",
       "5806427    32334698          29608\n",
       "4276395    56877039          29608\n",
       "7824298     8445609          28211\n",
       "7914834    41359655          28211\n",
       "20261550   31396746          26149\n",
       "15079531   36686133          19927"
      ]
     },
     "execution_count": 17,
     "metadata": {},
     "output_type": "execute_result"
    }
   ],
   "source": [
    "# Usefull reviews.(based on the 'helpful' tag)\n",
    "dataset.sort_values(ascending = False, by = 'votes_helpful').head(10)[['review_id','votes_helpful']]"
   ]
  },
  {
   "cell_type": "markdown",
   "id": "99adf0be",
   "metadata": {},
   "source": [
    "By looking at the above table you can see that the first 4 rows seem not to be right. So we should remove these 4 rows."
   ]
  },
  {
   "cell_type": "code",
   "execution_count": 10,
   "id": "6a95e119",
   "metadata": {},
   "outputs": [],
   "source": [
    "dataset = dataset.drop([10751984,10449392,2071183,3125114])\n"
   ]
  },
  {
   "cell_type": "code",
   "execution_count": 19,
   "id": "d516e0c7",
   "metadata": {},
   "outputs": [
    {
     "data": {
      "text/html": [
       "<div>\n",
       "<style scoped>\n",
       "    .dataframe tbody tr th:only-of-type {\n",
       "        vertical-align: middle;\n",
       "    }\n",
       "\n",
       "    .dataframe tbody tr th {\n",
       "        vertical-align: top;\n",
       "    }\n",
       "\n",
       "    .dataframe thead th {\n",
       "        text-align: right;\n",
       "    }\n",
       "</style>\n",
       "<table border=\"1\" class=\"dataframe\">\n",
       "  <thead>\n",
       "    <tr style=\"text-align: right;\">\n",
       "      <th></th>\n",
       "      <th>review_id</th>\n",
       "      <th>votes_helpful</th>\n",
       "    </tr>\n",
       "  </thead>\n",
       "  <tbody>\n",
       "    <tr>\n",
       "      <th>5806427</th>\n",
       "      <td>32334698</td>\n",
       "      <td>29608</td>\n",
       "    </tr>\n",
       "    <tr>\n",
       "      <th>4276395</th>\n",
       "      <td>56877039</td>\n",
       "      <td>29608</td>\n",
       "    </tr>\n",
       "    <tr>\n",
       "      <th>7914834</th>\n",
       "      <td>41359655</td>\n",
       "      <td>28211</td>\n",
       "    </tr>\n",
       "    <tr>\n",
       "      <th>7824298</th>\n",
       "      <td>8445609</td>\n",
       "      <td>28211</td>\n",
       "    </tr>\n",
       "    <tr>\n",
       "      <th>20261550</th>\n",
       "      <td>31396746</td>\n",
       "      <td>26149</td>\n",
       "    </tr>\n",
       "    <tr>\n",
       "      <th>2513056</th>\n",
       "      <td>51624184</td>\n",
       "      <td>19927</td>\n",
       "    </tr>\n",
       "    <tr>\n",
       "      <th>15079531</th>\n",
       "      <td>36686133</td>\n",
       "      <td>19927</td>\n",
       "    </tr>\n",
       "    <tr>\n",
       "      <th>19415901</th>\n",
       "      <td>18488599</td>\n",
       "      <td>19707</td>\n",
       "    </tr>\n",
       "    <tr>\n",
       "      <th>6250541</th>\n",
       "      <td>54993096</td>\n",
       "      <td>18030</td>\n",
       "    </tr>\n",
       "    <tr>\n",
       "      <th>14682182</th>\n",
       "      <td>42400519</td>\n",
       "      <td>18030</td>\n",
       "    </tr>\n",
       "  </tbody>\n",
       "</table>\n",
       "</div>"
      ],
      "text/plain": [
       "          review_id  votes_helpful\n",
       "5806427    32334698          29608\n",
       "4276395    56877039          29608\n",
       "7914834    41359655          28211\n",
       "7824298     8445609          28211\n",
       "20261550   31396746          26149\n",
       "2513056    51624184          19927\n",
       "15079531   36686133          19927\n",
       "19415901   18488599          19707\n",
       "6250541    54993096          18030\n",
       "14682182   42400519          18030"
      ]
     },
     "execution_count": 19,
     "metadata": {},
     "output_type": "execute_result"
    }
   ],
   "source": [
    "dataset.sort_values(ascending = False, by = 'votes_helpful').head(10)[['review_id','votes_helpful']]"
   ]
  },
  {
   "cell_type": "markdown",
   "id": "f61bcaaf",
   "metadata": {},
   "source": [
    "Now it seems right"
   ]
  },
  {
   "cell_type": "code",
   "execution_count": 20,
   "id": "ae1d0893",
   "metadata": {
    "scrolled": false
   },
   "outputs": [
    {
     "data": {
      "text/html": [
       "<div>\n",
       "<style scoped>\n",
       "    .dataframe tbody tr th:only-of-type {\n",
       "        vertical-align: middle;\n",
       "    }\n",
       "\n",
       "    .dataframe tbody tr th {\n",
       "        vertical-align: top;\n",
       "    }\n",
       "\n",
       "    .dataframe thead th {\n",
       "        text-align: right;\n",
       "    }\n",
       "</style>\n",
       "<table border=\"1\" class=\"dataframe\">\n",
       "  <thead>\n",
       "    <tr style=\"text-align: right;\">\n",
       "      <th></th>\n",
       "      <th>review_id</th>\n",
       "      <th>votes_funny</th>\n",
       "    </tr>\n",
       "  </thead>\n",
       "  <tbody>\n",
       "    <tr>\n",
       "      <th>9956101</th>\n",
       "      <td>58427222</td>\n",
       "      <td>4294967295</td>\n",
       "    </tr>\n",
       "    <tr>\n",
       "      <th>376209</th>\n",
       "      <td>32891513</td>\n",
       "      <td>4294967295</td>\n",
       "    </tr>\n",
       "    <tr>\n",
       "      <th>406534</th>\n",
       "      <td>27496248</td>\n",
       "      <td>4294967295</td>\n",
       "    </tr>\n",
       "    <tr>\n",
       "      <th>21624736</th>\n",
       "      <td>32310758</td>\n",
       "      <td>4294967295</td>\n",
       "    </tr>\n",
       "    <tr>\n",
       "      <th>19319853</th>\n",
       "      <td>28266147</td>\n",
       "      <td>4294967295</td>\n",
       "    </tr>\n",
       "    <tr>\n",
       "      <th>21299657</th>\n",
       "      <td>29673473</td>\n",
       "      <td>4294967295</td>\n",
       "    </tr>\n",
       "    <tr>\n",
       "      <th>16220385</th>\n",
       "      <td>32926879</td>\n",
       "      <td>4294967295</td>\n",
       "    </tr>\n",
       "    <tr>\n",
       "      <th>19276884</th>\n",
       "      <td>32448682</td>\n",
       "      <td>4294967295</td>\n",
       "    </tr>\n",
       "    <tr>\n",
       "      <th>2594674</th>\n",
       "      <td>59560093</td>\n",
       "      <td>4294967295</td>\n",
       "    </tr>\n",
       "    <tr>\n",
       "      <th>13511985</th>\n",
       "      <td>32798128</td>\n",
       "      <td>4294967295</td>\n",
       "    </tr>\n",
       "    <tr>\n",
       "      <th>19571275</th>\n",
       "      <td>29246833</td>\n",
       "      <td>4294967295</td>\n",
       "    </tr>\n",
       "    <tr>\n",
       "      <th>377919</th>\n",
       "      <td>32552529</td>\n",
       "      <td>4294967295</td>\n",
       "    </tr>\n",
       "    <tr>\n",
       "      <th>2422238</th>\n",
       "      <td>29942143</td>\n",
       "      <td>4294967295</td>\n",
       "    </tr>\n",
       "    <tr>\n",
       "      <th>2124034</th>\n",
       "      <td>25773167</td>\n",
       "      <td>4294967295</td>\n",
       "    </tr>\n",
       "    <tr>\n",
       "      <th>15391287</th>\n",
       "      <td>31212155</td>\n",
       "      <td>4294967295</td>\n",
       "    </tr>\n",
       "    <tr>\n",
       "      <th>3456642</th>\n",
       "      <td>19084933</td>\n",
       "      <td>4294967295</td>\n",
       "    </tr>\n",
       "    <tr>\n",
       "      <th>13524451</th>\n",
       "      <td>32593685</td>\n",
       "      <td>4294967295</td>\n",
       "    </tr>\n",
       "    <tr>\n",
       "      <th>4593205</th>\n",
       "      <td>44435901</td>\n",
       "      <td>4294967295</td>\n",
       "    </tr>\n",
       "    <tr>\n",
       "      <th>19312120</th>\n",
       "      <td>29682773</td>\n",
       "      <td>4294967295</td>\n",
       "    </tr>\n",
       "    <tr>\n",
       "      <th>2998908</th>\n",
       "      <td>65922517</td>\n",
       "      <td>4294967295</td>\n",
       "    </tr>\n",
       "    <tr>\n",
       "      <th>8704080</th>\n",
       "      <td>11167871</td>\n",
       "      <td>4294967295</td>\n",
       "    </tr>\n",
       "    <tr>\n",
       "      <th>3263263</th>\n",
       "      <td>54975609</td>\n",
       "      <td>4294967295</td>\n",
       "    </tr>\n",
       "    <tr>\n",
       "      <th>2248812</th>\n",
       "      <td>10919501</td>\n",
       "      <td>4294967295</td>\n",
       "    </tr>\n",
       "    <tr>\n",
       "      <th>4257563</th>\n",
       "      <td>59075721</td>\n",
       "      <td>4294967295</td>\n",
       "    </tr>\n",
       "    <tr>\n",
       "      <th>21296996</th>\n",
       "      <td>30243862</td>\n",
       "      <td>4294967295</td>\n",
       "    </tr>\n",
       "    <tr>\n",
       "      <th>15991900</th>\n",
       "      <td>31086989</td>\n",
       "      <td>4294967295</td>\n",
       "    </tr>\n",
       "    <tr>\n",
       "      <th>6650136</th>\n",
       "      <td>29297072</td>\n",
       "      <td>4294967295</td>\n",
       "    </tr>\n",
       "    <tr>\n",
       "      <th>761579</th>\n",
       "      <td>60336038</td>\n",
       "      <td>4294967295</td>\n",
       "    </tr>\n",
       "    <tr>\n",
       "      <th>240002</th>\n",
       "      <td>54489949</td>\n",
       "      <td>4294967295</td>\n",
       "    </tr>\n",
       "    <tr>\n",
       "      <th>6914258</th>\n",
       "      <td>24848686</td>\n",
       "      <td>4294967295</td>\n",
       "    </tr>\n",
       "    <tr>\n",
       "      <th>419371</th>\n",
       "      <td>26606179</td>\n",
       "      <td>4294967295</td>\n",
       "    </tr>\n",
       "    <tr>\n",
       "      <th>3863939</th>\n",
       "      <td>76319534</td>\n",
       "      <td>4294967295</td>\n",
       "    </tr>\n",
       "    <tr>\n",
       "      <th>21647893</th>\n",
       "      <td>31288580</td>\n",
       "      <td>4294967295</td>\n",
       "    </tr>\n",
       "    <tr>\n",
       "      <th>1965120</th>\n",
       "      <td>51988942</td>\n",
       "      <td>4294967295</td>\n",
       "    </tr>\n",
       "    <tr>\n",
       "      <th>54773</th>\n",
       "      <td>45753437</td>\n",
       "      <td>4294967295</td>\n",
       "    </tr>\n",
       "    <tr>\n",
       "      <th>6862968</th>\n",
       "      <td>25265500</td>\n",
       "      <td>4294967295</td>\n",
       "    </tr>\n",
       "    <tr>\n",
       "      <th>10418092</th>\n",
       "      <td>30114170</td>\n",
       "      <td>4294967295</td>\n",
       "    </tr>\n",
       "    <tr>\n",
       "      <th>2607802</th>\n",
       "      <td>49970289</td>\n",
       "      <td>4294967295</td>\n",
       "    </tr>\n",
       "    <tr>\n",
       "      <th>17248723</th>\n",
       "      <td>31689782</td>\n",
       "      <td>4294967295</td>\n",
       "    </tr>\n",
       "    <tr>\n",
       "      <th>2166636</th>\n",
       "      <td>83407285</td>\n",
       "      <td>4294967295</td>\n",
       "    </tr>\n",
       "    <tr>\n",
       "      <th>2974029</th>\n",
       "      <td>26037362</td>\n",
       "      <td>4294967295</td>\n",
       "    </tr>\n",
       "    <tr>\n",
       "      <th>4836435</th>\n",
       "      <td>39841929</td>\n",
       "      <td>4294967295</td>\n",
       "    </tr>\n",
       "    <tr>\n",
       "      <th>6000241</th>\n",
       "      <td>72024775</td>\n",
       "      <td>4294967295</td>\n",
       "    </tr>\n",
       "    <tr>\n",
       "      <th>13673956</th>\n",
       "      <td>22251159</td>\n",
       "      <td>4294967295</td>\n",
       "    </tr>\n",
       "    <tr>\n",
       "      <th>2293901</th>\n",
       "      <td>26162908</td>\n",
       "      <td>4294967295</td>\n",
       "    </tr>\n",
       "    <tr>\n",
       "      <th>2130838</th>\n",
       "      <td>25060134</td>\n",
       "      <td>4294967295</td>\n",
       "    </tr>\n",
       "    <tr>\n",
       "      <th>9646579</th>\n",
       "      <td>23711216</td>\n",
       "      <td>4294967295</td>\n",
       "    </tr>\n",
       "    <tr>\n",
       "      <th>16846852</th>\n",
       "      <td>27922645</td>\n",
       "      <td>4294967295</td>\n",
       "    </tr>\n",
       "    <tr>\n",
       "      <th>5442754</th>\n",
       "      <td>65649857</td>\n",
       "      <td>4294967295</td>\n",
       "    </tr>\n",
       "    <tr>\n",
       "      <th>13579521</th>\n",
       "      <td>30408365</td>\n",
       "      <td>4294967295</td>\n",
       "    </tr>\n",
       "  </tbody>\n",
       "</table>\n",
       "</div>"
      ],
      "text/plain": [
       "          review_id  votes_funny\n",
       "9956101    58427222   4294967295\n",
       "376209     32891513   4294967295\n",
       "406534     27496248   4294967295\n",
       "21624736   32310758   4294967295\n",
       "19319853   28266147   4294967295\n",
       "21299657   29673473   4294967295\n",
       "16220385   32926879   4294967295\n",
       "19276884   32448682   4294967295\n",
       "2594674    59560093   4294967295\n",
       "13511985   32798128   4294967295\n",
       "19571275   29246833   4294967295\n",
       "377919     32552529   4294967295\n",
       "2422238    29942143   4294967295\n",
       "2124034    25773167   4294967295\n",
       "15391287   31212155   4294967295\n",
       "3456642    19084933   4294967295\n",
       "13524451   32593685   4294967295\n",
       "4593205    44435901   4294967295\n",
       "19312120   29682773   4294967295\n",
       "2998908    65922517   4294967295\n",
       "8704080    11167871   4294967295\n",
       "3263263    54975609   4294967295\n",
       "2248812    10919501   4294967295\n",
       "4257563    59075721   4294967295\n",
       "21296996   30243862   4294967295\n",
       "15991900   31086989   4294967295\n",
       "6650136    29297072   4294967295\n",
       "761579     60336038   4294967295\n",
       "240002     54489949   4294967295\n",
       "6914258    24848686   4294967295\n",
       "419371     26606179   4294967295\n",
       "3863939    76319534   4294967295\n",
       "21647893   31288580   4294967295\n",
       "1965120    51988942   4294967295\n",
       "54773      45753437   4294967295\n",
       "6862968    25265500   4294967295\n",
       "10418092   30114170   4294967295\n",
       "2607802    49970289   4294967295\n",
       "17248723   31689782   4294967295\n",
       "2166636    83407285   4294967295\n",
       "2974029    26037362   4294967295\n",
       "4836435    39841929   4294967295\n",
       "6000241    72024775   4294967295\n",
       "13673956   22251159   4294967295\n",
       "2293901    26162908   4294967295\n",
       "2130838    25060134   4294967295\n",
       "9646579    23711216   4294967295\n",
       "16846852   27922645   4294967295\n",
       "5442754    65649857   4294967295\n",
       "13579521   30408365   4294967295"
      ]
     },
     "execution_count": 20,
     "metadata": {},
     "output_type": "execute_result"
    }
   ],
   "source": [
    "# which reviews got the most votes as 'funny'\n",
    "dataset.sort_values(ascending = False, by = 'votes_funny').head(50)[['review_id','votes_funny']]"
   ]
  },
  {
   "cell_type": "markdown",
   "id": "d9b248f1",
   "metadata": {},
   "source": [
    "We have the same issue for votes_funny column. So we set a threshold based on values and filter the data."
   ]
  },
  {
   "cell_type": "code",
   "execution_count": 11,
   "id": "baf90b30",
   "metadata": {},
   "outputs": [],
   "source": [
    "i = dataset[(dataset.votes_funny > 4294967200)].index\n",
    "\n",
    "dataset = dataset.drop(i)\n"
   ]
  },
  {
   "cell_type": "markdown",
   "id": "7621fca8",
   "metadata": {},
   "source": [
    "We calculate the votes_funny one more time."
   ]
  },
  {
   "cell_type": "code",
   "execution_count": 22,
   "id": "63cf5684",
   "metadata": {},
   "outputs": [
    {
     "data": {
      "text/html": [
       "<div>\n",
       "<style scoped>\n",
       "    .dataframe tbody tr th:only-of-type {\n",
       "        vertical-align: middle;\n",
       "    }\n",
       "\n",
       "    .dataframe tbody tr th {\n",
       "        vertical-align: top;\n",
       "    }\n",
       "\n",
       "    .dataframe thead th {\n",
       "        text-align: right;\n",
       "    }\n",
       "</style>\n",
       "<table border=\"1\" class=\"dataframe\">\n",
       "  <thead>\n",
       "    <tr style=\"text-align: right;\">\n",
       "      <th></th>\n",
       "      <th>review_id</th>\n",
       "      <th>votes_funny</th>\n",
       "    </tr>\n",
       "  </thead>\n",
       "  <tbody>\n",
       "    <tr>\n",
       "      <th>4781032</th>\n",
       "      <td>40725764</td>\n",
       "      <td>22532</td>\n",
       "    </tr>\n",
       "    <tr>\n",
       "      <th>15079531</th>\n",
       "      <td>36686133</td>\n",
       "      <td>22532</td>\n",
       "    </tr>\n",
       "    <tr>\n",
       "      <th>5161050</th>\n",
       "      <td>49683888</td>\n",
       "      <td>16012</td>\n",
       "    </tr>\n",
       "    <tr>\n",
       "      <th>241129</th>\n",
       "      <td>54252087</td>\n",
       "      <td>16012</td>\n",
       "    </tr>\n",
       "    <tr>\n",
       "      <th>14962872</th>\n",
       "      <td>38425732</td>\n",
       "      <td>15707</td>\n",
       "    </tr>\n",
       "    <tr>\n",
       "      <th>1608202</th>\n",
       "      <td>64275695</td>\n",
       "      <td>15707</td>\n",
       "    </tr>\n",
       "    <tr>\n",
       "      <th>16875345</th>\n",
       "      <td>25085256</td>\n",
       "      <td>15417</td>\n",
       "    </tr>\n",
       "    <tr>\n",
       "      <th>1398215</th>\n",
       "      <td>11079632</td>\n",
       "      <td>15417</td>\n",
       "    </tr>\n",
       "    <tr>\n",
       "      <th>3267103</th>\n",
       "      <td>47723883</td>\n",
       "      <td>14376</td>\n",
       "    </tr>\n",
       "    <tr>\n",
       "      <th>2509606</th>\n",
       "      <td>63047506</td>\n",
       "      <td>14376</td>\n",
       "    </tr>\n",
       "  </tbody>\n",
       "</table>\n",
       "</div>"
      ],
      "text/plain": [
       "          review_id  votes_funny\n",
       "4781032    40725764        22532\n",
       "15079531   36686133        22532\n",
       "5161050    49683888        16012\n",
       "241129     54252087        16012\n",
       "14962872   38425732        15707\n",
       "1608202    64275695        15707\n",
       "16875345   25085256        15417\n",
       "1398215    11079632        15417\n",
       "3267103    47723883        14376\n",
       "2509606    63047506        14376"
      ]
     },
     "execution_count": 22,
     "metadata": {},
     "output_type": "execute_result"
    }
   ],
   "source": [
    "# which reviews got the most votes as 'funny'\n",
    "dataset.sort_values(ascending = False, by = 'votes_funny').head(10)[['review_id','votes_funny']]"
   ]
  },
  {
   "cell_type": "code",
   "execution_count": 23,
   "id": "39d11ac7",
   "metadata": {},
   "outputs": [
    {
     "data": {
      "text/html": [
       "<div>\n",
       "<style scoped>\n",
       "    .dataframe tbody tr th:only-of-type {\n",
       "        vertical-align: middle;\n",
       "    }\n",
       "\n",
       "    .dataframe tbody tr th {\n",
       "        vertical-align: top;\n",
       "    }\n",
       "\n",
       "    .dataframe thead th {\n",
       "        text-align: right;\n",
       "    }\n",
       "</style>\n",
       "<table border=\"1\" class=\"dataframe\">\n",
       "  <thead>\n",
       "    <tr style=\"text-align: right;\">\n",
       "      <th></th>\n",
       "      <th>review_id</th>\n",
       "      <th>comment_count</th>\n",
       "    </tr>\n",
       "  </thead>\n",
       "  <tbody>\n",
       "    <tr>\n",
       "      <th>20444210</th>\n",
       "      <td>29914880</td>\n",
       "      <td>4893</td>\n",
       "    </tr>\n",
       "    <tr>\n",
       "      <th>16913851</th>\n",
       "      <td>24849441</td>\n",
       "      <td>1432</td>\n",
       "    </tr>\n",
       "    <tr>\n",
       "      <th>3504535</th>\n",
       "      <td>33169220</td>\n",
       "      <td>1432</td>\n",
       "    </tr>\n",
       "    <tr>\n",
       "      <th>3140621</th>\n",
       "      <td>60511823</td>\n",
       "      <td>1235</td>\n",
       "    </tr>\n",
       "    <tr>\n",
       "      <th>14916749</th>\n",
       "      <td>38721579</td>\n",
       "      <td>1235</td>\n",
       "    </tr>\n",
       "    <tr>\n",
       "      <th>20261550</th>\n",
       "      <td>31396746</td>\n",
       "      <td>1143</td>\n",
       "    </tr>\n",
       "    <tr>\n",
       "      <th>17308491</th>\n",
       "      <td>19228643</td>\n",
       "      <td>1034</td>\n",
       "    </tr>\n",
       "    <tr>\n",
       "      <th>17332943</th>\n",
       "      <td>18981681</td>\n",
       "      <td>1026</td>\n",
       "    </tr>\n",
       "    <tr>\n",
       "      <th>4498381</th>\n",
       "      <td>83579989</td>\n",
       "      <td>929</td>\n",
       "    </tr>\n",
       "    <tr>\n",
       "      <th>9375898</th>\n",
       "      <td>42395857</td>\n",
       "      <td>929</td>\n",
       "    </tr>\n",
       "  </tbody>\n",
       "</table>\n",
       "</div>"
      ],
      "text/plain": [
       "          review_id  comment_count\n",
       "20444210   29914880           4893\n",
       "16913851   24849441           1432\n",
       "3504535    33169220           1432\n",
       "3140621    60511823           1235\n",
       "14916749   38721579           1235\n",
       "20261550   31396746           1143\n",
       "17308491   19228643           1034\n",
       "17332943   18981681           1026\n",
       "4498381    83579989            929\n",
       "9375898    42395857            929"
      ]
     },
     "execution_count": 23,
     "metadata": {},
     "output_type": "execute_result"
    }
   ],
   "source": [
    "# Which reviews were the most controversial. (Based on the number of comments received)\n",
    "dataset.sort_values(ascending = False, by = 'comment_count').head(10)[['review_id','comment_count']]"
   ]
  },
  {
   "cell_type": "code",
   "execution_count": 24,
   "id": "2bf6d526",
   "metadata": {},
   "outputs": [
    {
     "data": {
      "text/html": [
       "<div>\n",
       "<style scoped>\n",
       "    .dataframe tbody tr th:only-of-type {\n",
       "        vertical-align: middle;\n",
       "    }\n",
       "\n",
       "    .dataframe tbody tr th {\n",
       "        vertical-align: top;\n",
       "    }\n",
       "\n",
       "    .dataframe thead th {\n",
       "        text-align: right;\n",
       "    }\n",
       "</style>\n",
       "<table border=\"1\" class=\"dataframe\">\n",
       "  <thead>\n",
       "    <tr style=\"text-align: right;\">\n",
       "      <th></th>\n",
       "      <th>author.steamid</th>\n",
       "      <th>author.num_reviews</th>\n",
       "    </tr>\n",
       "  </thead>\n",
       "  <tbody>\n",
       "    <tr>\n",
       "      <th>1970995</th>\n",
       "      <td>76561197903094752</td>\n",
       "      <td>4398046511108</td>\n",
       "    </tr>\n",
       "    <tr>\n",
       "      <th>13093694</th>\n",
       "      <td>76561198103272004</td>\n",
       "      <td>4398046511108</td>\n",
       "    </tr>\n",
       "    <tr>\n",
       "      <th>5663041</th>\n",
       "      <td>76561198848008157</td>\n",
       "      <td>4398046511105</td>\n",
       "    </tr>\n",
       "    <tr>\n",
       "      <th>1283698</th>\n",
       "      <td>76561197873406848</td>\n",
       "      <td>4398046511105</td>\n",
       "    </tr>\n",
       "    <tr>\n",
       "      <th>520259</th>\n",
       "      <td>76561197928046576</td>\n",
       "      <td>5236</td>\n",
       "    </tr>\n",
       "    <tr>\n",
       "      <th>20635080</th>\n",
       "      <td>76561198125392509</td>\n",
       "      <td>5236</td>\n",
       "    </tr>\n",
       "    <tr>\n",
       "      <th>3077805</th>\n",
       "      <td>76561197960239216</td>\n",
       "      <td>5236</td>\n",
       "    </tr>\n",
       "    <tr>\n",
       "      <th>5182470</th>\n",
       "      <td>76561197867222656</td>\n",
       "      <td>5236</td>\n",
       "    </tr>\n",
       "    <tr>\n",
       "      <th>8067284</th>\n",
       "      <td>76561198125392509</td>\n",
       "      <td>5236</td>\n",
       "    </tr>\n",
       "    <tr>\n",
       "      <th>1258197</th>\n",
       "      <td>76561198125392509</td>\n",
       "      <td>5236</td>\n",
       "    </tr>\n",
       "  </tbody>\n",
       "</table>\n",
       "</div>"
      ],
      "text/plain": [
       "             author.steamid  author.num_reviews\n",
       "1970995   76561197903094752       4398046511108\n",
       "13093694  76561198103272004       4398046511108\n",
       "5663041   76561198848008157       4398046511105\n",
       "1283698   76561197873406848       4398046511105\n",
       "520259    76561197928046576                5236\n",
       "20635080  76561198125392509                5236\n",
       "3077805   76561197960239216                5236\n",
       "5182470   76561197867222656                5236\n",
       "8067284   76561198125392509                5236\n",
       "1258197   76561198125392509                5236"
      ]
     },
     "execution_count": 24,
     "metadata": {},
     "output_type": "execute_result"
    }
   ],
   "source": [
    "dataset.sort_values(ascending = False, by = 'author.num_reviews').head(10)[['author.steamid','author.num_reviews']]\n"
   ]
  },
  {
   "cell_type": "markdown",
   "id": "385125eb",
   "metadata": {},
   "source": [
    "Just like before we have to drop the first four rows.\n",
    "Here we just chek the number of reviews to be normal. In the RQ5 we will discuss this more."
   ]
  },
  {
   "cell_type": "code",
   "execution_count": 12,
   "id": "62610b6c",
   "metadata": {},
   "outputs": [],
   "source": [
    "dataset = dataset.drop([13093694,5663041,1283698,1970995])"
   ]
  },
  {
   "cell_type": "code",
   "execution_count": 26,
   "id": "8b1c4ac5",
   "metadata": {},
   "outputs": [
    {
     "data": {
      "text/plain": [
       "<AxesSubplot:ylabel='app_id'>"
      ]
     },
     "execution_count": 26,
     "metadata": {},
     "output_type": "execute_result"
    },
    {
     "data": {
      "image/png": "[encoded data removed]",
      "text/plain": [
       "<Figure size 576x576 with 1 Axes>"
      ]
     },
     "metadata": {},
     "output_type": "display_data"
    }
   ],
   "source": [
    "# Percentage of whether the author of review purchased the game or not.\n",
    "dataset.groupby('steam_purchase').count().app_id.plot(kind = ('pie'),autopct='%1.1f%%',\\\n",
    "                                                      figsize=(8,8),startangle=270, fontsize=17 )\n"
   ]
  },
  {
   "cell_type": "code",
   "execution_count": 27,
   "id": "53c4a7ed",
   "metadata": {},
   "outputs": [
    {
     "data": {
      "text/html": [
       "<div>\n",
       "<style scoped>\n",
       "    .dataframe tbody tr th:only-of-type {\n",
       "        vertical-align: middle;\n",
       "    }\n",
       "\n",
       "    .dataframe tbody tr th {\n",
       "        vertical-align: top;\n",
       "    }\n",
       "\n",
       "    .dataframe thead th {\n",
       "        text-align: right;\n",
       "    }\n",
       "</style>\n",
       "<table border=\"1\" class=\"dataframe\">\n",
       "  <thead>\n",
       "    <tr style=\"text-align: right;\">\n",
       "      <th></th>\n",
       "      <th>author.steamid</th>\n",
       "      <th>author.num_games_owned</th>\n",
       "    </tr>\n",
       "  </thead>\n",
       "  <tbody>\n",
       "    <tr>\n",
       "      <th>5502449</th>\n",
       "      <td>76561198039421205</td>\n",
       "      <td>4398046511619</td>\n",
       "    </tr>\n",
       "    <tr>\n",
       "      <th>3407912</th>\n",
       "      <td>76561197951833904</td>\n",
       "      <td>4398046511619</td>\n",
       "    </tr>\n",
       "    <tr>\n",
       "      <th>21079021</th>\n",
       "      <td>76561198148961412</td>\n",
       "      <td>4398046511316</td>\n",
       "    </tr>\n",
       "    <tr>\n",
       "      <th>3507697</th>\n",
       "      <td>76561198242864522</td>\n",
       "      <td>4398046511179</td>\n",
       "    </tr>\n",
       "    <tr>\n",
       "      <th>4165326</th>\n",
       "      <td>76561197903412608</td>\n",
       "      <td>4398046511179</td>\n",
       "    </tr>\n",
       "    <tr>\n",
       "      <th>3273665</th>\n",
       "      <td>76561197958887936</td>\n",
       "      <td>4398046511170</td>\n",
       "    </tr>\n",
       "    <tr>\n",
       "      <th>8680945</th>\n",
       "      <td>76561198070649181</td>\n",
       "      <td>4398046511170</td>\n",
       "    </tr>\n",
       "    <tr>\n",
       "      <th>6913009</th>\n",
       "      <td>76561198127787009</td>\n",
       "      <td>4398046511151</td>\n",
       "    </tr>\n",
       "    <tr>\n",
       "      <th>9266316</th>\n",
       "      <td>76561197929051312</td>\n",
       "      <td>4398046511151</td>\n",
       "    </tr>\n",
       "    <tr>\n",
       "      <th>5790335</th>\n",
       "      <td>76561198028121353</td>\n",
       "      <td>24258</td>\n",
       "    </tr>\n",
       "  </tbody>\n",
       "</table>\n",
       "</div>"
      ],
      "text/plain": [
       "             author.steamid  author.num_games_owned\n",
       "5502449   76561198039421205           4398046511619\n",
       "3407912   76561197951833904           4398046511619\n",
       "21079021  76561198148961412           4398046511316\n",
       "3507697   76561198242864522           4398046511179\n",
       "4165326   76561197903412608           4398046511179\n",
       "3273665   76561197958887936           4398046511170\n",
       "8680945   76561198070649181           4398046511170\n",
       "6913009   76561198127787009           4398046511151\n",
       "9266316   76561197929051312           4398046511151\n",
       "5790335   76561198028121353                   24258"
      ]
     },
     "execution_count": 27,
     "metadata": {},
     "output_type": "execute_result"
    }
   ],
   "source": [
    "# which user own more games than the others.\n",
    "dataset[['author.steamid','author.num_games_owned']].\\\n",
    "sort_values(ascending = False, by='author.num_games_owned').head(10)"
   ]
  },
  {
   "cell_type": "markdown",
   "id": "71c264b9",
   "metadata": {},
   "source": [
    "Here we have the same issue and we have to drop some rows. We set a threshold based on values."
   ]
  },
  {
   "cell_type": "code",
   "execution_count": 13,
   "id": "b626c6b1",
   "metadata": {},
   "outputs": [],
   "source": [
    "i = dataset[(dataset['author.num_games_owned'] > 4398046511100)].index\n",
    "\n",
    "dataset = dataset.drop(i)"
   ]
  },
  {
   "cell_type": "markdown",
   "id": "24d0330b",
   "metadata": {},
   "source": [
    "Now we sort the values one more time."
   ]
  },
  {
   "cell_type": "code",
   "execution_count": 29,
   "id": "a0da6798",
   "metadata": {},
   "outputs": [
    {
     "data": {
      "text/html": [
       "<div>\n",
       "<style scoped>\n",
       "    .dataframe tbody tr th:only-of-type {\n",
       "        vertical-align: middle;\n",
       "    }\n",
       "\n",
       "    .dataframe tbody tr th {\n",
       "        vertical-align: top;\n",
       "    }\n",
       "\n",
       "    .dataframe thead th {\n",
       "        text-align: right;\n",
       "    }\n",
       "</style>\n",
       "<table border=\"1\" class=\"dataframe\">\n",
       "  <thead>\n",
       "    <tr style=\"text-align: right;\">\n",
       "      <th></th>\n",
       "      <th>author.steamid</th>\n",
       "      <th>author.num_games_owned</th>\n",
       "    </tr>\n",
       "  </thead>\n",
       "  <tbody>\n",
       "    <tr>\n",
       "      <th>5790335</th>\n",
       "      <td>76561198028121353</td>\n",
       "      <td>24258</td>\n",
       "    </tr>\n",
       "    <tr>\n",
       "      <th>7308765</th>\n",
       "      <td>76561197938819680</td>\n",
       "      <td>24258</td>\n",
       "    </tr>\n",
       "    <tr>\n",
       "      <th>3487865</th>\n",
       "      <td>76561197933943584</td>\n",
       "      <td>24184</td>\n",
       "    </tr>\n",
       "    <tr>\n",
       "      <th>5242234</th>\n",
       "      <td>76561198028121353</td>\n",
       "      <td>24184</td>\n",
       "    </tr>\n",
       "    <tr>\n",
       "      <th>4669613</th>\n",
       "      <td>76561197924223344</td>\n",
       "      <td>24172</td>\n",
       "    </tr>\n",
       "    <tr>\n",
       "      <th>4418318</th>\n",
       "      <td>76561198028121353</td>\n",
       "      <td>24172</td>\n",
       "    </tr>\n",
       "    <tr>\n",
       "      <th>17742447</th>\n",
       "      <td>76561197979911851</td>\n",
       "      <td>22024</td>\n",
       "    </tr>\n",
       "    <tr>\n",
       "      <th>20632981</th>\n",
       "      <td>76561197979911851</td>\n",
       "      <td>22023</td>\n",
       "    </tr>\n",
       "    <tr>\n",
       "      <th>20679539</th>\n",
       "      <td>76561197979911851</td>\n",
       "      <td>22019</td>\n",
       "    </tr>\n",
       "    <tr>\n",
       "      <th>6245475</th>\n",
       "      <td>76561197938857536</td>\n",
       "      <td>21980</td>\n",
       "    </tr>\n",
       "  </tbody>\n",
       "</table>\n",
       "</div>"
      ],
      "text/plain": [
       "             author.steamid  author.num_games_owned\n",
       "5790335   76561198028121353                   24258\n",
       "7308765   76561197938819680                   24258\n",
       "3487865   76561197933943584                   24184\n",
       "5242234   76561198028121353                   24184\n",
       "4669613   76561197924223344                   24172\n",
       "4418318   76561198028121353                   24172\n",
       "17742447  76561197979911851                   22024\n",
       "20632981  76561197979911851                   22023\n",
       "20679539  76561197979911851                   22019\n",
       "6245475   76561197938857536                   21980"
      ]
     },
     "execution_count": 29,
     "metadata": {},
     "output_type": "execute_result"
    }
   ],
   "source": [
    "# which user own more games than the others.\n",
    "dataset[['author.steamid','author.num_games_owned']].\\\n",
    "sort_values(ascending = False, by='author.num_games_owned').head(10)"
   ]
  },
  {
   "cell_type": "code",
   "execution_count": 30,
   "id": "38d21235",
   "metadata": {},
   "outputs": [
    {
     "data": {
      "text/html": [
       "<div>\n",
       "<style scoped>\n",
       "    .dataframe tbody tr th:only-of-type {\n",
       "        vertical-align: middle;\n",
       "    }\n",
       "\n",
       "    .dataframe tbody tr th {\n",
       "        vertical-align: top;\n",
       "    }\n",
       "\n",
       "    .dataframe thead th {\n",
       "        text-align: right;\n",
       "    }\n",
       "</style>\n",
       "<table border=\"1\" class=\"dataframe\">\n",
       "  <thead>\n",
       "    <tr style=\"text-align: right;\">\n",
       "      <th></th>\n",
       "      <th>app_name</th>\n",
       "      <th>author.steamid</th>\n",
       "      <th>author.playtime_forever</th>\n",
       "    </tr>\n",
       "  </thead>\n",
       "  <tbody>\n",
       "    <tr>\n",
       "      <th>1261973</th>\n",
       "      <td>The Elder Scrolls V: Skyrim</td>\n",
       "      <td>76561197862491648</td>\n",
       "      <td>3744943.0</td>\n",
       "    </tr>\n",
       "    <tr>\n",
       "      <th>11261972</th>\n",
       "      <td>The Elder Scrolls V: Skyrim</td>\n",
       "      <td>76561197992128065</td>\n",
       "      <td>3744943.0</td>\n",
       "    </tr>\n",
       "    <tr>\n",
       "      <th>1576588</th>\n",
       "      <td>Sid Meier's Civilization V</td>\n",
       "      <td>76561198030806709</td>\n",
       "      <td>3470649.0</td>\n",
       "    </tr>\n",
       "    <tr>\n",
       "      <th>1576589</th>\n",
       "      <td>Sid Meier's Civilization V</td>\n",
       "      <td>76561197919021632</td>\n",
       "      <td>3470649.0</td>\n",
       "    </tr>\n",
       "    <tr>\n",
       "      <th>1553967</th>\n",
       "      <td>Garry's Mod</td>\n",
       "      <td>76561197878183488</td>\n",
       "      <td>3345621.0</td>\n",
       "    </tr>\n",
       "    <tr>\n",
       "      <th>1553966</th>\n",
       "      <td>Garry's Mod</td>\n",
       "      <td>76561198067113260</td>\n",
       "      <td>3345621.0</td>\n",
       "    </tr>\n",
       "    <tr>\n",
       "      <th>541373</th>\n",
       "      <td>Counter-Strike: Source</td>\n",
       "      <td>76561197907593856</td>\n",
       "      <td>3336152.0</td>\n",
       "    </tr>\n",
       "    <tr>\n",
       "      <th>541372</th>\n",
       "      <td>Counter-Strike: Source</td>\n",
       "      <td>76561198080500547</td>\n",
       "      <td>3336152.0</td>\n",
       "    </tr>\n",
       "    <tr>\n",
       "      <th>1638436</th>\n",
       "      <td>Sid Meier's Civilization V</td>\n",
       "      <td>76561197877398704</td>\n",
       "      <td>3323263.0</td>\n",
       "    </tr>\n",
       "    <tr>\n",
       "      <th>1638435</th>\n",
       "      <td>Sid Meier's Civilization V</td>\n",
       "      <td>76561198030129768</td>\n",
       "      <td>3323263.0</td>\n",
       "    </tr>\n",
       "  </tbody>\n",
       "</table>\n",
       "</div>"
      ],
      "text/plain": [
       "                             app_name     author.steamid  \\\n",
       "1261973   The Elder Scrolls V: Skyrim  76561197862491648   \n",
       "11261972  The Elder Scrolls V: Skyrim  76561197992128065   \n",
       "1576588    Sid Meier's Civilization V  76561198030806709   \n",
       "1576589    Sid Meier's Civilization V  76561197919021632   \n",
       "1553967                   Garry's Mod  76561197878183488   \n",
       "1553966                   Garry's Mod  76561198067113260   \n",
       "541373         Counter-Strike: Source  76561197907593856   \n",
       "541372         Counter-Strike: Source  76561198080500547   \n",
       "1638436    Sid Meier's Civilization V  76561197877398704   \n",
       "1638435    Sid Meier's Civilization V  76561198030129768   \n",
       "\n",
       "          author.playtime_forever  \n",
       "1261973                 3744943.0  \n",
       "11261972                3744943.0  \n",
       "1576588                 3470649.0  \n",
       "1576589                 3470649.0  \n",
       "1553967                 3345621.0  \n",
       "1553966                 3345621.0  \n",
       "541373                  3336152.0  \n",
       "541372                  3336152.0  \n",
       "1638436                 3323263.0  \n",
       "1638435                 3323263.0  "
      ]
     },
     "execution_count": 30,
     "metadata": {},
     "output_type": "execute_result"
    }
   ],
   "source": [
    "# Most time the authors spent in the reviewd game.(Lifetime)\n",
    "dataset[['app_name','author.steamid','author.playtime_forever']].\\\n",
    "sort_values(ascending = False, by = 'author.playtime_forever').head(10)\n"
   ]
  },
  {
   "cell_type": "markdown",
   "id": "0115b465",
   "metadata": {},
   "source": [
    "Untill now we checked the values of some columns and we drop some of rows which had irrelevant values."
   ]
  },
  {
   "cell_type": "markdown",
   "id": "fced828c",
   "metadata": {},
   "source": [
    "## RQ2\n",
    "Let's explore the dataset by finding simple insights into the reviews.\n",
    "- Plot the number of reviews for each application in descending order.\n",
    "- What applications have the best Weighted Vote Score?\n",
    "- Which applications have the most and the least recommendations?\n",
    "- How many of these applications were purchased, and how many were given for free?"
   ]
  },
  {
   "cell_type": "code",
   "execution_count": 31,
   "id": "e1768be7",
   "metadata": {},
   "outputs": [
    {
     "data": {
      "text/plain": [
       "<AxesSubplot:xlabel='app_name'>"
      ]
     },
     "execution_count": 31,
     "metadata": {},
     "output_type": "execute_result"
    },
    {
     "data": {
      "image/png": "[encoded data removed]",
      "text/plain": [
       "<Figure size 576x576 with 1 Axes>"
      ]
     },
     "metadata": {
      "needs_background": "light"
     },
     "output_type": "display_data"
    }
   ],
   "source": [
    "# number of reviews of each application in desc order\n",
    "# we plot the top 30\n",
    "dataset.groupby('app_name').review_id.count().sort_values(ascending=False).head(30).plot.bar(figsize = (8,8))\n"
   ]
  },
  {
   "cell_type": "code",
   "execution_count": 32,
   "id": "fa8457ef",
   "metadata": {},
   "outputs": [
    {
     "data": {
      "text/plain": [
       "app_name\n",
       "Hunt Down The Freeman                0.502150\n",
       "Urban Empire                         0.438623\n",
       "METAL GEAR SURVIVE                   0.421632\n",
       "Identity                             0.415384\n",
       "Umbrella Corps                       0.414678\n",
       "                                       ...   \n",
       "There Is No Game: Wrong Dimension    0.086059\n",
       "Bloons TD 6                          0.084868\n",
       "People Playground                    0.083486\n",
       "Among Us                             0.078233\n",
       "Totally Accurate Battle Simulator    0.076891\n",
       "Name: weighted_vote_score, Length: 315, dtype: float64"
      ]
     },
     "execution_count": 32,
     "metadata": {},
     "output_type": "execute_result"
    }
   ],
   "source": [
    "######---------best weighted vote score------######\n",
    "# we had to use groupby function by the app name and then we had to take the average of all\n",
    "# the weighted votes for each application. Then we sorted them on descending orders\n",
    "dataset.groupby('app_name').weighted_vote_score.mean().sort_values(ascending=False)"
   ]
  },
  {
   "cell_type": "code",
   "execution_count": 33,
   "id": "0b7f0530",
   "metadata": {},
   "outputs": [
    {
     "data": {
      "text/plain": [
       "app_name\n",
       "PLAYERUNKNOWN'S BATTLEGROUNDS     2530517\n",
       "Grand Theft Auto V                1850299\n",
       "Tom Clancy's Rainbow Six Siege    1584210\n",
       "Garry's Mod                       1287981\n",
       "Rust                              1017903\n",
       "                                   ...   \n",
       "WWE 2K17                              922\n",
       "Urban Empire                          759\n",
       "Out of the Park Baseball 19           594\n",
       "DRAGON QUEST HEROES™ II               423\n",
       "Neon Hardcorps                        289\n",
       "Name: recommended, Length: 315, dtype: int64"
      ]
     },
     "execution_count": 33,
     "metadata": {},
     "output_type": "execute_result"
    }
   ],
   "source": [
    "######---------------most and least recommendations application------------######\n",
    "# here we had to find out the applications if they are recommended or not. We have used those values and\n",
    "# filterd the dataset and then basic counting and the highest values of recommended apps and then not\n",
    "# recommended apps.\n",
    "# those are the most recommended applications\n",
    "dataset[['recommended','app_name']][dataset.recommended == True].groupby('app_name').\\\n",
    "recommended.count().sort_values(ascending=False)"
   ]
  },
  {
   "cell_type": "code",
   "execution_count": 34,
   "id": "8d58537c",
   "metadata": {},
   "outputs": [
    {
     "data": {
      "text/plain": [
       "app_name\n",
       "PLAYERUNKNOWN'S BATTLEGROUNDS      757825\n",
       "Grand Theft Auto V                 187774\n",
       "Tom Clancy's Rainbow Six Siege      99513\n",
       "ARK: Survival Evolved               84756\n",
       "Rust                                80175\n",
       "                                    ...  \n",
       "Nova Drift                             65\n",
       "A Short Hike                           50\n",
       "Senren＊Banka                           30\n",
       "ULTRAKILL                              26\n",
       "Don't Escape: 4 Days to Survive        15\n",
       "Name: recommended, Length: 315, dtype: int64"
      ]
     },
     "execution_count": 34,
     "metadata": {},
     "output_type": "execute_result"
    }
   ],
   "source": [
    "# those are the least recommended ( voted as not recommended) values\n",
    "dataset[['recommended','app_name']][dataset.recommended == False].groupby('app_name').\\\n",
    "recommended.count().sort_values(ascending=False)"
   ]
  },
  {
   "cell_type": "code",
   "execution_count": 35,
   "id": "91f543f2",
   "metadata": {},
   "outputs": [
    {
     "data": {
      "text/plain": [
       "315"
      ]
     },
     "execution_count": 35,
     "metadata": {},
     "output_type": "execute_result"
    }
   ],
   "source": [
    "######-------------purchase and given for free---------############\n",
    "# dataset[dataset.steam_purchase == True].app_id.nunique()\n",
    "dataset[['steam_purchase','app_id']][dataset.steam_purchase == True].app_id.nunique()"
   ]
  },
  {
   "cell_type": "code",
   "execution_count": 36,
   "id": "5842d13c",
   "metadata": {},
   "outputs": [
    {
     "data": {
      "text/plain": [
       "315"
      ]
     },
     "execution_count": 36,
     "metadata": {},
     "output_type": "execute_result"
    }
   ],
   "source": [
    "\n",
    "dataset[['received_for_free','app_id']][dataset.received_for_free == True].app_id.nunique()"
   ]
  },
  {
   "cell_type": "markdown",
   "id": "06aaca5e",
   "metadata": {},
   "source": [
    "# RQ3\n",
    "Now it's important to understand the preferred time to do reviews.\n",
    "\n",
    "- What is the most common time that authors review an application? For example, authors usually write a review at 17:44.\n",
    "- Create a function that receives as a parameter a list of time intervals and returns the plot the number of reviews for each of the intervals.\n",
    "- Use the function that you created in the previous literal to plot the number of reviews between the following time intervals:\n",
    "| Initial time | Final time |\n",
    "|---|---|\n",
    "| 06:00:00 | 10:59:59 |\n",
    "| 11:00:00 | 13:59:59 |\n",
    "| 14:00:00 | 16:59:59 |\n",
    "| 17:00:00 | 19:59:59 |\n",
    "| 20:00:00 | 23:59:59 |\n",
    "| 00:00:00 | 02:59:59 |\n",
    "| 03:00:00 | 05:59:59 |"
   ]
  },
  {
   "cell_type": "code",
   "execution_count": 37,
   "id": "82fc8f5d",
   "metadata": {},
   "outputs": [
    {
     "data": {
      "text/plain": [
       "15:54:53    795\n",
       "14:42:19    608\n",
       "15:24:50    607\n",
       "14:45:11    600\n",
       "14:46:53    596\n",
       "17:56:41    593\n",
       "14:50:37    592\n",
       "15:52:51    592\n",
       "14:27:29    588\n",
       "16:00:20    588\n",
       "Name: timestamp_created, dtype: int64"
      ]
     },
     "execution_count": 37,
     "metadata": {},
     "output_type": "execute_result"
    }
   ],
   "source": [
    "# 1. What is the most common time that authors review an application? \n",
    "# For example, authors usually write a review at 17:44.\n",
    "\n",
    "# If we do the calculations accurately in seconds we get the result below\n",
    "dataset.timestamp_created.dt.time.value_counts().sort_values(ascending=False).head(10)\n"
   ]
  },
  {
   "cell_type": "code",
   "execution_count": 38,
   "id": "fb04deec",
   "metadata": {},
   "outputs": [
    {
     "data": {
      "text/plain": [
       "14:52:00    31604\n",
       "15:04:00    31555\n",
       "14:38:00    31503\n",
       "14:50:00    31475\n",
       "15:10:00    31469\n",
       "15:08:00    31452\n",
       "15:06:00    31449\n",
       "15:14:00    31427\n",
       "15:16:00    31422\n",
       "15:20:00    31410\n",
       "Name: timestamp_created, dtype: int64"
      ]
     },
     "execution_count": 38,
     "metadata": {},
     "output_type": "execute_result"
    }
   ],
   "source": [
    "# But it is better to round the times into minute percision and then get the most common time authors review an application\n",
    "dataset.timestamp_created.dt.round('min').dt.time.\\\n",
    "value_counts().sort_values(ascending=False).head(10)"
   ]
  },
  {
   "cell_type": "code",
   "execution_count": 39,
   "id": "a0d5f9e3",
   "metadata": {},
   "outputs": [],
   "source": [
    "# 2. Create a function that receives as a parameter a list of time intervals\n",
    "# and returns the plot the number of reviews for each of the intervals.\n",
    "\n",
    "def barplot_time_intervals(times):\n",
    "    numbers = []\n",
    "    for i in range(0, len(times), 2):\n",
    "        numbers.append(dataset[(dataset.timestamp_created.dt.time > times[i]) &\\\n",
    "                       (dataset.timestamp_created.dt.time < times[i+1])].count().app_id)\n",
    "    index = []\n",
    "    for i in range(0,len(times),2):\n",
    "        index.append(str(times[i]) + ' - ' + str(times[i+1]))\n",
    "    fig, ax = plt.subplots(figsize =(16, 9))\n",
    "    ax.barh(index, numbers)\n",
    "    for i in ax.patches:\n",
    "        plt.text(i.get_width()+0.2, i.get_y()+0.5,\n",
    "                 str(round((i.get_width()), 2)),\n",
    "                 fontsize = 10, fontweight ='bold',\n",
    "                 color ='grey')\n",
    "    plt.ylabel('Time Intervals')\n",
    "    plt.xlabel('No. of comments')\n",
    "    plt.title('plot of the number of reviews for each of the intervals.')\n",
    "    plt.show()"
   ]
  },
  {
   "cell_type": "code",
   "execution_count": 40,
   "id": "00065c4e",
   "metadata": {},
   "outputs": [
    {
     "data": {
      "image/png": "[encoded data removed]",
      "text/plain": [
       "<Figure size 1152x648 with 1 Axes>"
      ]
     },
     "metadata": {
      "needs_background": "light"
     },
     "output_type": "display_data"
    }
   ],
   "source": [
    "times = pd.Series(['06:00:00', '10:59:59','11:00:00', '13:59:59',\n",
    "         '14:00:00', '16:59:59',\n",
    "         '17:00:00', '19:59:59',\n",
    "         '20:00:00', '23:59:59',\n",
    "         '00:00:00', '02:59:59',\n",
    "         '03:00:00', '05:59:59'])\n",
    "times1 = pd.to_datetime(times).dt.time\n",
    "barplot_time_intervals(times1)\n"
   ]
  },
  {
   "cell_type": "markdown",
   "id": "58c1e6d8",
   "metadata": {},
   "source": [
    "# RQ4\n",
    "As Steam is a worldwide platform, the reviews can be done in many languages. Let's extract some information about it.\n",
    "\n",
    "- What are the top 3 languages used to review applications?\n",
    "- Create a function that receives as parameters both the name of a data set and a list of languages’ names and returns a data frame filtered only with the reviews written in the provided languages.\n",
    "- Use the function created in the previous literal to find what percentage of these reviews (associated with the top 3 languages) were voted as funny?\n",
    "- Use the function created in the literal “a” to find what percentage of these reviews (associated with the top 3 languages) were voted as helpful?"
   ]
  },
  {
   "cell_type": "code",
   "execution_count": 14,
   "id": "92f4b227",
   "metadata": {},
   "outputs": [
    {
     "data": {
      "text/plain": [
       "language\n",
       "english     17023011\n",
       "schinese     6839135\n",
       "russian      4168053\n",
       "Name: review_id, dtype: int64"
      ]
     },
     "execution_count": 14,
     "metadata": {},
     "output_type": "execute_result"
    }
   ],
   "source": [
    "######-------Top 3 languages used to review-------######\n",
    "dataset.groupby('language').review_id.count().sort_values(ascending=False).head(3)"
   ]
  },
  {
   "cell_type": "code",
   "execution_count": 42,
   "id": "004bd299",
   "metadata": {},
   "outputs": [
    {
     "data": {
      "text/html": [
       "<div>\n",
       "<style scoped>\n",
       "    .dataframe tbody tr th:only-of-type {\n",
       "        vertical-align: middle;\n",
       "    }\n",
       "\n",
       "    .dataframe tbody tr th {\n",
       "        vertical-align: top;\n",
       "    }\n",
       "\n",
       "    .dataframe thead th {\n",
       "        text-align: right;\n",
       "    }\n",
       "</style>\n",
       "<table border=\"1\" class=\"dataframe\">\n",
       "  <thead>\n",
       "    <tr style=\"text-align: right;\">\n",
       "      <th></th>\n",
       "      <th>Unnamed: 0</th>\n",
       "      <th>app_id</th>\n",
       "      <th>app_name</th>\n",
       "      <th>review_id</th>\n",
       "      <th>language</th>\n",
       "      <th>review</th>\n",
       "      <th>timestamp_created</th>\n",
       "      <th>timestamp_updated</th>\n",
       "      <th>recommended</th>\n",
       "      <th>votes_helpful</th>\n",
       "      <th>...</th>\n",
       "      <th>steam_purchase</th>\n",
       "      <th>received_for_free</th>\n",
       "      <th>written_during_early_access</th>\n",
       "      <th>author.steamid</th>\n",
       "      <th>author.num_games_owned</th>\n",
       "      <th>author.num_reviews</th>\n",
       "      <th>author.playtime_forever</th>\n",
       "      <th>author.playtime_last_two_weeks</th>\n",
       "      <th>author.playtime_at_review</th>\n",
       "      <th>author.last_played</th>\n",
       "    </tr>\n",
       "  </thead>\n",
       "  <tbody>\n",
       "    <tr>\n",
       "      <th>0</th>\n",
       "      <td>0</td>\n",
       "      <td>292030</td>\n",
       "      <td>The Witcher 3: Wild Hunt</td>\n",
       "      <td>85185598</td>\n",
       "      <td>schinese</td>\n",
       "      <td>不玩此生遗憾，RPG游戏里的天花板，太吸引人了</td>\n",
       "      <td>2021-01-23 06:00:29</td>\n",
       "      <td>2021-01-23 06:00:29</td>\n",
       "      <td>True</td>\n",
       "      <td>0</td>\n",
       "      <td>...</td>\n",
       "      <td>True</td>\n",
       "      <td>False</td>\n",
       "      <td>False</td>\n",
       "      <td>76561199095369542</td>\n",
       "      <td>6</td>\n",
       "      <td>2</td>\n",
       "      <td>1909.0</td>\n",
       "      <td>1448.0</td>\n",
       "      <td>1909.0</td>\n",
       "      <td>2021-01-22 19:23:03.000000000</td>\n",
       "    </tr>\n",
       "    <tr>\n",
       "      <th>1</th>\n",
       "      <td>1</td>\n",
       "      <td>292030</td>\n",
       "      <td>The Witcher 3: Wild Hunt</td>\n",
       "      <td>85185250</td>\n",
       "      <td>schinese</td>\n",
       "      <td>拔DIAO无情打桩机--杰洛特!!!</td>\n",
       "      <td>2021-01-23 05:50:30</td>\n",
       "      <td>2021-01-23 05:50:30</td>\n",
       "      <td>True</td>\n",
       "      <td>0</td>\n",
       "      <td>...</td>\n",
       "      <td>True</td>\n",
       "      <td>False</td>\n",
       "      <td>False</td>\n",
       "      <td>76561198949504115</td>\n",
       "      <td>30</td>\n",
       "      <td>10</td>\n",
       "      <td>2764.0</td>\n",
       "      <td>2743.0</td>\n",
       "      <td>2674.0</td>\n",
       "      <td>2021-01-23 07:18:27.000000000</td>\n",
       "    </tr>\n",
       "    <tr>\n",
       "      <th>2</th>\n",
       "      <td>2</td>\n",
       "      <td>292030</td>\n",
       "      <td>The Witcher 3: Wild Hunt</td>\n",
       "      <td>85185111</td>\n",
       "      <td>schinese</td>\n",
       "      <td>巫师3NB</td>\n",
       "      <td>2021-01-23 05:46:40</td>\n",
       "      <td>2021-01-23 05:46:40</td>\n",
       "      <td>True</td>\n",
       "      <td>0</td>\n",
       "      <td>...</td>\n",
       "      <td>True</td>\n",
       "      <td>False</td>\n",
       "      <td>False</td>\n",
       "      <td>76561199090098988</td>\n",
       "      <td>5</td>\n",
       "      <td>1</td>\n",
       "      <td>1061.0</td>\n",
       "      <td>1061.0</td>\n",
       "      <td>1060.0</td>\n",
       "      <td>2021-01-23 06:36:17.000000000</td>\n",
       "    </tr>\n",
       "    <tr>\n",
       "      <th>4</th>\n",
       "      <td>4</td>\n",
       "      <td>292030</td>\n",
       "      <td>The Witcher 3: Wild Hunt</td>\n",
       "      <td>85184287</td>\n",
       "      <td>schinese</td>\n",
       "      <td>大作</td>\n",
       "      <td>2021-01-23 05:23:47</td>\n",
       "      <td>2021-01-23 05:23:47</td>\n",
       "      <td>True</td>\n",
       "      <td>0</td>\n",
       "      <td>...</td>\n",
       "      <td>True</td>\n",
       "      <td>False</td>\n",
       "      <td>False</td>\n",
       "      <td>76561199028326951</td>\n",
       "      <td>7</td>\n",
       "      <td>4</td>\n",
       "      <td>217.0</td>\n",
       "      <td>42.0</td>\n",
       "      <td>217.0</td>\n",
       "      <td>2021-01-16 09:10:49.000000000</td>\n",
       "    </tr>\n",
       "    <tr>\n",
       "      <th>8</th>\n",
       "      <td>8</td>\n",
       "      <td>292030</td>\n",
       "      <td>The Witcher 3: Wild Hunt</td>\n",
       "      <td>85183227</td>\n",
       "      <td>schinese</td>\n",
       "      <td>年度最佳的作品，没啥好夸的，神作</td>\n",
       "      <td>2021-01-23 04:55:03</td>\n",
       "      <td>2021-01-23 04:55:03</td>\n",
       "      <td>True</td>\n",
       "      <td>0</td>\n",
       "      <td>...</td>\n",
       "      <td>True</td>\n",
       "      <td>False</td>\n",
       "      <td>False</td>\n",
       "      <td>76561198130808993</td>\n",
       "      <td>581</td>\n",
       "      <td>17</td>\n",
       "      <td>6921.0</td>\n",
       "      <td>222.0</td>\n",
       "      <td>6921.0</td>\n",
       "      <td>2021-01-22 12:07:55.000000000</td>\n",
       "    </tr>\n",
       "    <tr>\n",
       "      <th>...</th>\n",
       "      <td>...</td>\n",
       "      <td>...</td>\n",
       "      <td>...</td>\n",
       "      <td>...</td>\n",
       "      <td>...</td>\n",
       "      <td>...</td>\n",
       "      <td>...</td>\n",
       "      <td>...</td>\n",
       "      <td>...</td>\n",
       "      <td>...</td>\n",
       "      <td>...</td>\n",
       "      <td>...</td>\n",
       "      <td>...</td>\n",
       "      <td>...</td>\n",
       "      <td>...</td>\n",
       "      <td>...</td>\n",
       "      <td>...</td>\n",
       "      <td>...</td>\n",
       "      <td>...</td>\n",
       "      <td>...</td>\n",
       "      <td>...</td>\n",
       "    </tr>\n",
       "    <tr>\n",
       "      <th>6999985</th>\n",
       "      <td>6999981</td>\n",
       "      <td>323190</td>\n",
       "      <td>Frostpunk</td>\n",
       "      <td>47000636</td>\n",
       "      <td>schinese</td>\n",
       "      <td>好玩。</td>\n",
       "      <td>2001-05-28 04:21:38</td>\n",
       "      <td>2001-05-28 04:21:38</td>\n",
       "      <td>True</td>\n",
       "      <td>0</td>\n",
       "      <td>...</td>\n",
       "      <td>True</td>\n",
       "      <td>True</td>\n",
       "      <td>True</td>\n",
       "      <td>76561197945461264</td>\n",
       "      <td>4</td>\n",
       "      <td>2</td>\n",
       "      <td>2967.0</td>\n",
       "      <td>0.0</td>\n",
       "      <td>2618.0</td>\n",
       "      <td>2000-12-07 05:33:09.969569792</td>\n",
       "    </tr>\n",
       "    <tr>\n",
       "      <th>6999988</th>\n",
       "      <td>6999984</td>\n",
       "      <td>323190</td>\n",
       "      <td>Frostpunk</td>\n",
       "      <td>47000152</td>\n",
       "      <td>schinese</td>\n",
       "      <td>不错的游戏，就是没有什么能重复玩的地方</td>\n",
       "      <td>2018-12-05 15:49:39</td>\n",
       "      <td>2018-12-05 15:49:39</td>\n",
       "      <td>True</td>\n",
       "      <td>0</td>\n",
       "      <td>...</td>\n",
       "      <td>True</td>\n",
       "      <td>True</td>\n",
       "      <td>True</td>\n",
       "      <td>76561197887864032</td>\n",
       "      <td>753</td>\n",
       "      <td>32</td>\n",
       "      <td>879.0</td>\n",
       "      <td>0.0</td>\n",
       "      <td>727.0</td>\n",
       "      <td>2018-06-02 11:23:50.743585792</td>\n",
       "    </tr>\n",
       "    <tr>\n",
       "      <th>6999990</th>\n",
       "      <td>6999986</td>\n",
       "      <td>323190</td>\n",
       "      <td>Frostpunk</td>\n",
       "      <td>46997928</td>\n",
       "      <td>spanish</td>\n",
       "      <td>Muy buen juego.\\nTe introduce en un mundo que ...</td>\n",
       "      <td>2017-09-04 00:32:04</td>\n",
       "      <td>2017-09-04 00:32:04</td>\n",
       "      <td>True</td>\n",
       "      <td>1</td>\n",
       "      <td>...</td>\n",
       "      <td>True</td>\n",
       "      <td>True</td>\n",
       "      <td>True</td>\n",
       "      <td>76561197915327264</td>\n",
       "      <td>164</td>\n",
       "      <td>1</td>\n",
       "      <td>2939.0</td>\n",
       "      <td>0.0</td>\n",
       "      <td>1406.0</td>\n",
       "      <td>2017-02-07 02:04:30.546807808</td>\n",
       "    </tr>\n",
       "    <tr>\n",
       "      <th>6999999</th>\n",
       "      <td>6999995</td>\n",
       "      <td>323190</td>\n",
       "      <td>Frostpunk</td>\n",
       "      <td>46994790</td>\n",
       "      <td>spanish</td>\n",
       "      <td>Frio y nieve : 10/10\\nPunk: 9/10\\n\\nCumple con...</td>\n",
       "      <td>2018-06-08 19:40:34</td>\n",
       "      <td>2018-06-08 19:40:34</td>\n",
       "      <td>True</td>\n",
       "      <td>1</td>\n",
       "      <td>...</td>\n",
       "      <td>True</td>\n",
       "      <td>True</td>\n",
       "      <td>True</td>\n",
       "      <td>76561197913314944</td>\n",
       "      <td>35</td>\n",
       "      <td>1</td>\n",
       "      <td>4064.0</td>\n",
       "      <td>0.0</td>\n",
       "      <td>1287.0</td>\n",
       "      <td>2018-02-06 17:06:43.719246336</td>\n",
       "    </tr>\n",
       "    <tr>\n",
       "      <th>7000002</th>\n",
       "      <td>6999998</td>\n",
       "      <td>323190</td>\n",
       "      <td>Frostpunk</td>\n",
       "      <td>46993752</td>\n",
       "      <td>spanish</td>\n",
       "      <td>Excelente!.</td>\n",
       "      <td>2003-05-03 13:04:29</td>\n",
       "      <td>2003-05-03 13:04:29</td>\n",
       "      <td>True</td>\n",
       "      <td>0</td>\n",
       "      <td>...</td>\n",
       "      <td>True</td>\n",
       "      <td>True</td>\n",
       "      <td>True</td>\n",
       "      <td>76561197908075936</td>\n",
       "      <td>91</td>\n",
       "      <td>3</td>\n",
       "      <td>1680.0</td>\n",
       "      <td>0.0</td>\n",
       "      <td>910.0</td>\n",
       "      <td>2003-03-13 22:50:57.968475520</td>\n",
       "    </tr>\n",
       "  </tbody>\n",
       "</table>\n",
       "<p>8517549 rows × 23 columns</p>\n",
       "</div>"
      ],
      "text/plain": [
       "        Unnamed: 0  app_id                  app_name  review_id  language  \\\n",
       "0                0  292030  The Witcher 3: Wild Hunt   85185598  schinese   \n",
       "1                1  292030  The Witcher 3: Wild Hunt   85185250  schinese   \n",
       "2                2  292030  The Witcher 3: Wild Hunt   85185111  schinese   \n",
       "4                4  292030  The Witcher 3: Wild Hunt   85184287  schinese   \n",
       "8                8  292030  The Witcher 3: Wild Hunt   85183227  schinese   \n",
       "...            ...     ...                       ...        ...       ...   \n",
       "6999985    6999981  323190                 Frostpunk   47000636  schinese   \n",
       "6999988    6999984  323190                 Frostpunk   47000152  schinese   \n",
       "6999990    6999986  323190                 Frostpunk   46997928   spanish   \n",
       "6999999    6999995  323190                 Frostpunk   46994790   spanish   \n",
       "7000002    6999998  323190                 Frostpunk   46993752   spanish   \n",
       "\n",
       "                                                    review  \\\n",
       "0                                  不玩此生遗憾，RPG游戏里的天花板，太吸引人了   \n",
       "1                                       拔DIAO无情打桩机--杰洛特!!!   \n",
       "2                                                    巫师3NB   \n",
       "4                                                       大作   \n",
       "8                                         年度最佳的作品，没啥好夸的，神作   \n",
       "...                                                    ...   \n",
       "6999985                                                好玩。   \n",
       "6999988                                不错的游戏，就是没有什么能重复玩的地方   \n",
       "6999990  Muy buen juego.\\nTe introduce en un mundo que ...   \n",
       "6999999  Frio y nieve : 10/10\\nPunk: 9/10\\n\\nCumple con...   \n",
       "7000002                                        Excelente!.   \n",
       "\n",
       "          timestamp_created   timestamp_updated  recommended  votes_helpful  \\\n",
       "0       2021-01-23 06:00:29 2021-01-23 06:00:29         True              0   \n",
       "1       2021-01-23 05:50:30 2021-01-23 05:50:30         True              0   \n",
       "2       2021-01-23 05:46:40 2021-01-23 05:46:40         True              0   \n",
       "4       2021-01-23 05:23:47 2021-01-23 05:23:47         True              0   \n",
       "8       2021-01-23 04:55:03 2021-01-23 04:55:03         True              0   \n",
       "...                     ...                 ...          ...            ...   \n",
       "6999985 2001-05-28 04:21:38 2001-05-28 04:21:38         True              0   \n",
       "6999988 2018-12-05 15:49:39 2018-12-05 15:49:39         True              0   \n",
       "6999990 2017-09-04 00:32:04 2017-09-04 00:32:04         True              1   \n",
       "6999999 2018-06-08 19:40:34 2018-06-08 19:40:34         True              1   \n",
       "7000002 2003-05-03 13:04:29 2003-05-03 13:04:29         True              0   \n",
       "\n",
       "         ...  steam_purchase  received_for_free  written_during_early_access  \\\n",
       "0        ...            True              False                        False   \n",
       "1        ...            True              False                        False   \n",
       "2        ...            True              False                        False   \n",
       "4        ...            True              False                        False   \n",
       "8        ...            True              False                        False   \n",
       "...      ...             ...                ...                          ...   \n",
       "6999985  ...            True               True                         True   \n",
       "6999988  ...            True               True                         True   \n",
       "6999990  ...            True               True                         True   \n",
       "6999999  ...            True               True                         True   \n",
       "7000002  ...            True               True                         True   \n",
       "\n",
       "            author.steamid  author.num_games_owned  author.num_reviews  \\\n",
       "0        76561199095369542                       6                   2   \n",
       "1        76561198949504115                      30                  10   \n",
       "2        76561199090098988                       5                   1   \n",
       "4        76561199028326951                       7                   4   \n",
       "8        76561198130808993                     581                  17   \n",
       "...                    ...                     ...                 ...   \n",
       "6999985  76561197945461264                       4                   2   \n",
       "6999988  76561197887864032                     753                  32   \n",
       "6999990  76561197915327264                     164                   1   \n",
       "6999999  76561197913314944                      35                   1   \n",
       "7000002  76561197908075936                      91                   3   \n",
       "\n",
       "         author.playtime_forever  author.playtime_last_two_weeks  \\\n",
       "0                         1909.0                          1448.0   \n",
       "1                         2764.0                          2743.0   \n",
       "2                         1061.0                          1061.0   \n",
       "4                          217.0                            42.0   \n",
       "8                         6921.0                           222.0   \n",
       "...                          ...                             ...   \n",
       "6999985                   2967.0                             0.0   \n",
       "6999988                    879.0                             0.0   \n",
       "6999990                   2939.0                             0.0   \n",
       "6999999                   4064.0                             0.0   \n",
       "7000002                   1680.0                             0.0   \n",
       "\n",
       "         author.playtime_at_review            author.last_played  \n",
       "0                           1909.0 2021-01-22 19:23:03.000000000  \n",
       "1                           2674.0 2021-01-23 07:18:27.000000000  \n",
       "2                           1060.0 2021-01-23 06:36:17.000000000  \n",
       "4                            217.0 2021-01-16 09:10:49.000000000  \n",
       "8                           6921.0 2021-01-22 12:07:55.000000000  \n",
       "...                            ...                           ...  \n",
       "6999985                     2618.0 2000-12-07 05:33:09.969569792  \n",
       "6999988                      727.0 2018-06-02 11:23:50.743585792  \n",
       "6999990                     1406.0 2017-02-07 02:04:30.546807808  \n",
       "6999999                     1287.0 2018-02-06 17:06:43.719246336  \n",
       "7000002                      910.0 2003-03-13 22:50:57.968475520  \n",
       "\n",
       "[8517549 rows x 23 columns]"
      ]
     },
     "execution_count": 42,
     "metadata": {},
     "output_type": "execute_result"
    }
   ],
   "source": [
    "######------functions for filtering the dataset for selected languages of reviews-----######\n",
    "#this function take 2 inputs : dataset name and the list of the languages.\n",
    "def RevLan(ds,lst):\n",
    "    return (ds.query('language in @lst'))\n",
    "RevLan(dataset,['italian','spanish','schinese'])\n",
    "    "
   ]
  },
  {
   "cell_type": "code",
   "execution_count": 43,
   "id": "04d5b480",
   "metadata": {},
   "outputs": [
    {
     "name": "stdout",
     "output_type": "stream",
     "text": [
      "11.20617445491557% of these reviews were voted as funny!\n"
     ]
    }
   ],
   "source": [
    "#########--------Percentage of reviews that voted as funny -------#######\n",
    "#here we have used our previous created function RevLan to subfilter our main dataset\n",
    "newds = RevLan(dataset,['english','russian','schinese'])\n",
    "# then for finding the percentage of reviews voted as funny we had to do simple math calculation after\n",
    "# finding out the total reviews and reviews voted as funny.\n",
    "tot = newds.review_id.count()\n",
    "funny = newds[newds.votes_funny != 0].review_id.nunique()\n",
    "funnyPer = ((funny/tot)*100)\n",
    "print ('{}% of these reviews were voted as funny!'.format(funnyPer))"
   ]
  },
  {
   "cell_type": "code",
   "execution_count": null,
   "id": "7d9181d1",
   "metadata": {},
   "outputs": [],
   "source": [
    "#######******Percentage of reviews that voted as helpful-----######\n",
    "# the same procedure of the previous one.\n",
    "helpful = newds[newds.votes_helpful != 0].review_id.nunique()\n",
    "helpfulPer = ((helpful/tot)*100)\n",
    "print ('{}% of these reviews were voted as helpful!'.format(helpfulPer))"
   ]
  },
  {
   "cell_type": "markdown",
   "id": "1280a454",
   "metadata": {},
   "source": [
    "# RQ5\n",
    "The reviews' authors are users from the game that provide their opinion on it. Now you can check how often they make reviews.\n",
    "\n",
    "- Plot the top 10 most popular reviewers and the number of reviews.\n",
    "- What applications did the most popular author review?\n",
    "- How many applications did he purchase, and how many did he get as free? Provide the number (count) and the percentage.\n",
    "- How many of the applications he purchased reviewed positively, and how many negatively? How about the applications he received for free?\n"
   ]
  },
  {
   "cell_type": "code",
   "execution_count": 28,
   "id": "5a4692b9",
   "metadata": {
    "scrolled": false
   },
   "outputs": [
    {
     "data": {
      "image/png": "[encoded data removed]",
      "text/plain": [
       "<Figure size 1152x648 with 1 Axes>"
      ]
     },
     "metadata": {
      "needs_background": "light"
     },
     "output_type": "display_data"
    }
   ],
   "source": [
    "# top 10 most popular reviewers and the number of reviews.\n",
    "# We calculated the popularity based on the number of reviews\n",
    "# first use a subset of dataset(because we only need 'author.num_reviews' and 'author.steamid') and then drop the duplicate rows\n",
    "# by considering the steamid\n",
    "# then we sort the number of reviews and plot the top 15\n",
    "\n",
    "df2 = dataset[['author.num_reviews', 'author.steamid']].drop_duplicates(subset=['author.steamid']).\\\n",
    "sort_values(ascending = False,  by = 'author.num_reviews').head(15)\n",
    "\n",
    "index = list(map(str,df2['author.steamid']))\n",
    "numbers = list(map(int,df2['author.num_reviews']))\n",
    "fig, ax = plt.subplots(figsize =(16, 9))\n",
    "ax.barh(index, numbers)\n",
    "for i in ax.patches:\n",
    "    plt.text(i.get_width()+0.2, i.get_y()+0.5,\n",
    "             str(round((i.get_width()), 2)),\n",
    "             fontsize = 10, fontweight ='bold',\n",
    "             color ='blue')\n",
    "plt.ylabel('Author Steam ID')\n",
    "plt.xlabel('No. of reviews')\n",
    "plt.title('top 15 most popular reviewers and the number of reviews.')\n",
    "plt.show()"
   ]
  },
  {
   "cell_type": "code",
   "execution_count": 25,
   "id": "9962b483",
   "metadata": {},
   "outputs": [
    {
     "data": {
      "text/plain": [
       "3077805            NBA 2K18\n",
       "7791405                Rust\n",
       "8234103               Hades\n",
       "496074     The Walking Dead\n",
       "Name: app_name, dtype: object"
      ]
     },
     "execution_count": 25,
     "metadata": {},
     "output_type": "execute_result"
    }
   ],
   "source": [
    "# What applications did the most popular author review?\n",
    "# we use index which is calculated in the previous block to get the steamid of author\n",
    "\n",
    "most_popular_author = index[0]\n",
    "popular_author = dataset[dataset['author.steamid'] == int(most_popular_author)]\n",
    "popular_author.app_name"
   ]
  },
  {
   "cell_type": "code",
   "execution_count": 26,
   "id": "36ad5c4d",
   "metadata": {},
   "outputs": [
    {
     "name": "stdout",
     "output_type": "stream",
     "text": [
      "Number of applications he purchased: 4. equal to 25.0 %\n",
      "Number of applications he got free: 4. equal to 25.0 %\n"
     ]
    }
   ],
   "source": [
    "# How many applications did he purchase, and how many did he get as free? \n",
    "# Provide the number (count) and the percentage\n",
    "free = popular_author.received_for_free.count()\n",
    "purchased = popular_author.steam_purchase.count()\n",
    "total = popular_author['author.num_games_owned'].iloc[0]\n",
    "\n",
    "print('Number of applications he purchased: ' + str(purchased) +\\\n",
    "      '. equal to ' +str(100*purchased/total) +' %')\n",
    "print('Number of applications he got free: ' + str(free) +\\\n",
    "      '. equal to ' +str(100*free/total) +' %')\n"
   ]
  },
  {
   "cell_type": "markdown",
   "id": "113bc9ac",
   "metadata": {},
   "source": [
    "In dataset we have some rows like this: received_for_free = False, steam_purchase = False\n",
    "Actually, we don't know how the author got the game."
   ]
  },
  {
   "cell_type": "code",
   "execution_count": 27,
   "id": "1a12a8ca",
   "metadata": {},
   "outputs": [
    {
     "name": "stdout",
     "output_type": "stream",
     "text": [
      "4\n",
      "0\n",
      "4\n",
      "0\n"
     ]
    }
   ],
   "source": [
    "# How many of the applications he purchased reviewed positively, and how many negatively? \n",
    "# How about the applications he received for free?\n",
    "popular_author_purchased = popular_author[popular_author.steam_purchase == True]\n",
    "popular_author_free = popular_author[popular_author.received_for_free == True]\n",
    "print(popular_author_purchased[popular_author_purchased.recommended == True].count().app_id)\n",
    "print(popular_author_purchased[popular_author_purchased.recommended == False].count().app_id)\n",
    "print(popular_author_free[popular_author_free.recommended == True].count().app_id)\n",
    "print(popular_author_free[popular_author_free.recommended == False].count().app_id)\n"
   ]
  },
  {
   "cell_type": "markdown",
   "id": "012b1407",
   "metadata": {},
   "source": [
    "# RQ6\n",
    "It's time to get information from the updates that a user does to his reviews.\n",
    "\n",
    "- What is the average time (days and minutes) a user lets pass before he updates a review?\n",
    "- Plot the top 3 authors that usually update their reviews.\n"
   ]
  },
  {
   "cell_type": "code",
   "execution_count": 33,
   "id": "56d6fbe5",
   "metadata": {},
   "outputs": [],
   "source": [
    "####------ Average time a user lets pass before he updates a review-----#######"
   ]
  },
  {
   "cell_type": "code",
   "execution_count": 15,
   "id": "37077e66",
   "metadata": {},
   "outputs": [],
   "source": [
    "# first we find out which reviews have been updated by checking review time created and updated column. We find\n",
    "# the difference and record it in a new column.\n",
    "# because of some issues in bonus data we have some rows in which when we calculate the difference between review time and \n",
    "# update time we'll get the value below zero. So we should drop these rows.\n",
    "dataset['updateDiff'] = dataset['timestamp_updated'] - dataset['timestamp_created']\n",
    "i = dataset[(dataset['updateDiff'] < ('0 days 00:00:00'))].index\n",
    "dataset =  dataset.drop(i)"
   ]
  },
  {
   "cell_type": "code",
   "execution_count": 70,
   "id": "9c4db005",
   "metadata": {},
   "outputs": [
    {
     "data": {
      "text/plain": [
       "Timedelta('0 days 00:00:00')"
      ]
     },
     "execution_count": 70,
     "metadata": {},
     "output_type": "execute_result"
    }
   ],
   "source": [
    "# ofcourse the minimum difference is zero when the review has never been updated.\n",
    "dataset.updateDiff.min()"
   ]
  },
  {
   "cell_type": "code",
   "execution_count": 73,
   "id": "3d77373f",
   "metadata": {
    "scrolled": true
   },
   "outputs": [
    {
     "data": {
      "text/plain": [
       "Timedelta('183 days 23:10:21.379212552')"
      ]
     },
     "execution_count": 73,
     "metadata": {},
     "output_type": "execute_result"
    }
   ],
   "source": [
    "# now we filter the dataset just for the rows that have real updated reviews\n",
    "# remember that we will not consider the rows that has the same timestamp_created & timestamp_updated value.\n",
    "dataset[(dataset.updateDiff > ('0 days 00:00:00'))].updateDiff.mean()"
   ]
  },
  {
   "cell_type": "code",
   "execution_count": 47,
   "id": "feb35b42",
   "metadata": {},
   "outputs": [],
   "source": [
    "####--------plot the top 3 authors that usually update their review-------#####"
   ]
  },
  {
   "cell_type": "code",
   "execution_count": 76,
   "id": "5b290506",
   "metadata": {},
   "outputs": [
    {
     "data": {
      "text/plain": [
       "<AxesSubplot:xlabel='author.steamid'>"
      ]
     },
     "execution_count": 76,
     "metadata": {},
     "output_type": "execute_result"
    },
    {
     "data": {
      "image/png": "[encoded data removed]",
      "text/plain": [
       "<Figure size 720x360 with 1 Axes>"
      ]
     },
     "metadata": {
      "needs_background": "light"
     },
     "output_type": "display_data"
    }
   ],
   "source": [
    "# here we have used groupby function to count all the reiews done by each authors and than we have sorted\n",
    "# them in descending order. Then we took the top 3 of them for plotting.\n",
    "dataset[(dataset.updateDiff > ('0 days 00:00:00'))].groupby('author.steamid').\\\n",
    "review_id.count().sort_values(ascending=False).head(3).plot.bar(figsize=(10,5))"
   ]
  },
  {
   "cell_type": "markdown",
   "id": "ee2d5ad4",
   "metadata": {},
   "source": [
    "# RQ7\n",
    "Of course, calculating probabilities is a job that any Data Scientist must know. Let's compute Some interesting figures.\n",
    "\n",
    "- What’s the probability that a review has a Weighted Vote Score equal to or bigger than 0.5?\n",
    "- What’s the probability that a review has at least one vote as funny given that the Weighted Vote Score is bigger than 0.5?\n",
    "- Is the probability that “a review has at least one vote as funny” independent of the “probability that a review has a Weighted Vote Score equal or bigger than 0.5”?"
   ]
  },
  {
   "cell_type": "code",
   "execution_count": 77,
   "id": "64bdfd17",
   "metadata": {},
   "outputs": [
    {
     "name": "stdout",
     "output_type": "stream",
     "text": [
      "The probability that a review has a Weighted Vote Score equal to or bigger than 0.5 is 21.75%\n"
     ]
    }
   ],
   "source": [
    "p=round((sum(dataset['weighted_vote_score']>=0.5)/len(dataset['weighted_vote_score']))*100,2)  #frequentist method\n",
    "print(f'The probability that a review has a Weighted Vote Score equal to or bigger than 0.5 is {p}%')"
   ]
  },
  {
   "cell_type": "code",
   "execution_count": 78,
   "id": "0d8ef7e1",
   "metadata": {},
   "outputs": [
    {
     "name": "stdout",
     "output_type": "stream",
     "text": [
      "The probability that a review has at least one vote as funny given that the Weighted Vote Score is bigger than 0.5 is 19.07%\n"
     ]
    }
   ],
   "source": [
    "p1=round((sum((dataset['weighted_vote_score']>0.5)&(dataset['votes_funny']>=1))/sum(dataset['weighted_vote_score']>0.5))*100,2) #freq. method\n",
    "print(f'The probability that a review has at least one vote as funny given that the Weighted Vote Score is bigger than 0.5 is {p1}%')"
   ]
  },
  {
   "cell_type": "code",
   "execution_count": 79,
   "id": "05e21327",
   "metadata": {},
   "outputs": [
    {
     "name": "stdout",
     "output_type": "stream",
     "text": [
      "The probability that a review has at least one vote as funny is 11.67%\n",
      "The probability that a review has at least one vote as funny given that the Weighted Vote Score is equal to or bigger than 0.5 is 19.03%\n"
     ]
    }
   ],
   "source": [
    "p2=round((sum(dataset['votes_funny']>=1)/len(dataset['votes_funny']))*100,2) #frequentist method\n",
    "print(f'The probability that a review has at least one vote as funny is {p2}%')\n",
    "p3=round((sum((dataset['weighted_vote_score']>=0.5)&(dataset['votes_funny']>=1))/sum(dataset['weighted_vote_score']>=0.5))*100,2) #freq. method\n",
    "print(f'The probability that a review has at least one vote as funny given that the Weighted Vote Score is equal to or bigger than 0.5 is {p3}%')"
   ]
  },
  {
   "cell_type": "markdown",
   "id": "65355d5e",
   "metadata": {},
   "source": [
    "$Pr(\\text{a review has at least one vote as funny})$ is not independent of $Pr(\\text{a review has a Weighted Vote Score equal or bigger than 0.5})$: in fact $Pr(\\text{a review has at least one vote as funny})\\not= Pr(\\text{a review has at least one vote as funny|a review has a Weighted Vote Score equal or bigger than 0.5})$."
   ]
  },
  {
   "cell_type": "markdown",
   "id": "b9997393",
   "metadata": {},
   "source": [
    "# RQ8\n",
    "Every decision you take in a data-based environment should be reinforced with charts, statistical tests and analysis methods to check if a hypothesis is correct or not.\n",
    "\n",
    "- Is there a significant difference in the Weighted Vote Score of reviews made in Chinese vs the ones made in Russian? Use an appropriate statistical test or technique and support your choice.\n",
    "- Can you find any significant relationship between the time that a user lets pass before he updates the review and the Weighted Vote Score? Use an appropriate statistical test or technique and support your choice.\n",
    "- Is there any change in the relationship of the variables mentioned in the previous literal if you include whether an application is recommended or not in the review? Use an appropriate statistical test or technique and support your choice.\n",
    "- What are histograms, bar plots, scatterplots and pie charts used for?\n",
    "- What insights can you extract from a Box Plot?"
   ]
  },
  {
   "cell_type": "code",
   "execution_count": 80,
   "id": "49bb7cd8",
   "metadata": {},
   "outputs": [],
   "source": [
    "import scipy.stats"
   ]
  },
  {
   "cell_type": "code",
   "execution_count": 81,
   "id": "5929c0a5",
   "metadata": {},
   "outputs": [
    {
     "data": {
      "image/png": "[encoded data removed]",
      "text/plain": [
       "<Figure size 432x288 with 1 Axes>"
      ]
     },
     "metadata": {
      "needs_background": "light"
     },
     "output_type": "display_data"
    }
   ],
   "source": [
    "a=dataset['weighted_vote_score'][dataset['language']=='russian']\n",
    "plt.hist(a, density=True, color='green')\n",
    "plt.xlabel('Weighted vote score')\n",
    "plt.ylabel('p')\n",
    "plt.title('Histogram of the Weighted Vote Score of reviews made in Russian')\n",
    "plt.show()"
   ]
  },
  {
   "cell_type": "code",
   "execution_count": 82,
   "id": "9e87b132",
   "metadata": {},
   "outputs": [
    {
     "data": {
      "image/png": "[encoded data removed]",
      "text/plain": [
       "<Figure size 432x288 with 1 Axes>"
      ]
     },
     "metadata": {
      "needs_background": "light"
     },
     "output_type": "display_data"
    }
   ],
   "source": [
    "b=dataset['weighted_vote_score'][((dataset['language']=='schinese')|(dataset['language']=='tchinese'))]\n",
    "plt.hist(b, density=True, color='green')\n",
    "plt.xlabel('Weighted vote score')\n",
    "plt.ylabel('p')\n",
    "plt.title('Histogram of the Weighted Vote Score of reviews made in Chinese')\n",
    "plt.show()"
   ]
  },
  {
   "cell_type": "code",
   "execution_count": 83,
   "id": "2a638c9c",
   "metadata": {},
   "outputs": [
    {
     "data": {
      "text/plain": [
       "False"
      ]
     },
     "execution_count": 83,
     "metadata": {},
     "output_type": "execute_result"
    }
   ],
   "source": [
    "scipy.stats.kruskal(a,b).pvalue>0.05"
   ]
  },
  {
   "cell_type": "markdown",
   "id": "197cbd12",
   "metadata": {},
   "source": [
    "Even if the two histograms may look pretty similar, there is a significant difference in the Weighted Vote Score of reviews made in Chinese and the ones made in Russian. In fact, using the Kruskal Wallistest, we refuse the null hypothesis (which says that the two samples came from the same distribution), with a p-value smaller than 0.05. This test is a non parametric test which verify the equality of the medians."
   ]
  },
  {
   "cell_type": "code",
   "execution_count": 84,
   "id": "886b500b",
   "metadata": {},
   "outputs": [
    {
     "data": {
      "image/png": "[encoded data removed]",
      "text/plain": [
       "<Figure size 432x288 with 1 Axes>"
      ]
     },
     "metadata": {
      "needs_background": "light"
     },
     "output_type": "display_data"
    }
   ],
   "source": [
    "c=dataset['weighted_vote_score']\n",
    "d=(dataset['timestamp_updated']-dataset['timestamp_created']).astype('timedelta64[h]')\n",
    "plt.scatter(d,c, c='green', alpha=0.15, marker=',')\n",
    "plt.title('Scatter plot')\n",
    "plt.xlabel('Hours between creation and last update')\n",
    "plt.ylabel('Weighted vore score')\n",
    "plt.show()"
   ]
  },
  {
   "cell_type": "code",
   "execution_count": 85,
   "id": "2a4465f9",
   "metadata": {},
   "outputs": [
    {
     "name": "stdout",
     "output_type": "stream",
     "text": [
      "Intercept         = 0.15968180254878486\n",
      "Coeff             = 3.969901547669898e-06\n",
      "Correlation coeff = 0.05399854427983151\n"
     ]
    }
   ],
   "source": [
    "reg1=scipy.stats.linregress(d,c)\n",
    "print(f'Intercept         = {reg1.intercept}')\n",
    "print(f'Coeff             = {reg1.slope}')\n",
    "print(f'Correlation coeff = {reg1.rvalue}')"
   ]
  },
  {
   "cell_type": "markdown",
   "id": "493a4d77",
   "metadata": {},
   "source": [
    "From the scatter plot it doesn't seem to be a relationship between the time that a user lets pass before he updates the review and the Weighted Vote Score. In fact the correlation coefficient is pretty close to 0."
   ]
  },
  {
   "cell_type": "code",
   "execution_count": 86,
   "id": "fbb65341",
   "metadata": {},
   "outputs": [
    {
     "name": "stdout",
     "output_type": "stream",
     "text": [
      "Spearman colleration coefficient = 0.05758080202269502\n"
     ]
    }
   ],
   "source": [
    "print(f'Spearman colleration coefficient = {scipy.stats.spearmanr(d,c).correlation}')"
   ]
  },
  {
   "cell_type": "markdown",
   "id": "751b6b15",
   "metadata": {},
   "source": [
    "Moreover the Spearman's correlation coefficient is pretty close to 0, which means there is not a significant reletionship between the two variables."
   ]
  },
  {
   "cell_type": "markdown",
   "id": "626bc7a7",
   "metadata": {},
   "source": [
    "### Recommended application"
   ]
  },
  {
   "cell_type": "code",
   "execution_count": 87,
   "id": "c5d3820c",
   "metadata": {},
   "outputs": [
    {
     "data": {
      "image/png": "[encoded data removed]",
      "text/plain": [
       "<Figure size 432x288 with 1 Axes>"
      ]
     },
     "metadata": {
      "needs_background": "light"
     },
     "output_type": "display_data"
    }
   ],
   "source": [
    "p=dataset['weighted_vote_score'][dataset['recommended']==True]\n",
    "q=(dataset['timestamp_updated'][dataset['recommended']==True]-\n",
    "   dataset['timestamp_created'][dataset['recommended']==True]).astype('timedelta64[h]')\n",
    "plt.scatter(q,p, c='green', alpha=0.15, marker=',')\n",
    "plt.title('Scatter plot')\n",
    "plt.xlabel('Hours between creation and last update')\n",
    "plt.ylabel('Weighted vore score')\n",
    "plt.show()"
   ]
  },
  {
   "cell_type": "code",
   "execution_count": 88,
   "id": "2e385358",
   "metadata": {},
   "outputs": [
    {
     "name": "stdout",
     "output_type": "stream",
     "text": [
      "Intercept            = 0.1505982220236375\n",
      "Coeff                = 4.136490762827926e-06\n",
      "Correlation coeff    = 0.0546344884174312\n"
     ]
    }
   ],
   "source": [
    "reg2=scipy.stats.linregress(q,p)\n",
    "print(f'Intercept            = {reg2.intercept}')\n",
    "print(f'Coeff                = {reg2.slope}')\n",
    "print(f'Correlation coeff    = {reg2.rvalue}')"
   ]
  },
  {
   "cell_type": "code",
   "execution_count": 89,
   "id": "5627d622",
   "metadata": {},
   "outputs": [
    {
     "name": "stdout",
     "output_type": "stream",
     "text": [
      "Spearman colleration coefficient = 0.05888567996702373\n"
     ]
    }
   ],
   "source": [
    "print(f'Spearman colleration coefficient = {scipy.stats.spearmanr(q,p).correlation}')"
   ]
  },
  {
   "cell_type": "markdown",
   "id": "f3caf852",
   "metadata": {},
   "source": [
    "### Not recommended application\n"
   ]
  },
  {
   "cell_type": "code",
   "execution_count": 90,
   "id": "10c8a65a",
   "metadata": {},
   "outputs": [
    {
     "data": {
      "image/png": "[encoded data removed]",
      "text/plain": [
       "<Figure size 432x288 with 1 Axes>"
      ]
     },
     "metadata": {
      "needs_background": "light"
     },
     "output_type": "display_data"
    }
   ],
   "source": [
    "u=dataset['weighted_vote_score'][dataset['recommended']==False]\n",
    "v=(dataset['timestamp_updated'][dataset['recommended']==False]-\n",
    "   dataset['timestamp_created'][dataset['recommended']==False]).astype('timedelta64[h]')\n",
    "plt.scatter(v,u, c='green', alpha=0.15, marker=',')\n",
    "plt.title('Scatter plot')\n",
    "plt.xlabel('Hours between creation and last update')\n",
    "plt.ylabel('Weighted vore score')\n",
    "plt.show()"
   ]
  },
  {
   "cell_type": "code",
   "execution_count": 91,
   "id": "3fe1c75f",
   "metadata": {},
   "outputs": [
    {
     "name": "stdout",
     "output_type": "stream",
     "text": [
      "intercept            = 0.2832376921352378\n",
      "coeff                = -9.47187719476955e-08\n",
      "Correlation coeff    = -0.001792690534084652\n"
     ]
    }
   ],
   "source": [
    "reg3=scipy.stats.linregress(v,u)\n",
    "print(f'intercept            = {reg3.intercept}')\n",
    "print(f'coeff                = {reg3.slope}')\n",
    "print(f'Correlation coeff    = {reg3.rvalue}')"
   ]
  },
  {
   "cell_type": "code",
   "execution_count": 92,
   "id": "cb2e0d57",
   "metadata": {},
   "outputs": [
    {
     "name": "stdout",
     "output_type": "stream",
     "text": [
      "Spearman colleration coefficient = 0.046040590657659905\n"
     ]
    }
   ],
   "source": [
    "print(f'Spearman colleration coefficient = {scipy.stats.spearmanr(v,u).correlation}')"
   ]
  },
  {
   "cell_type": "markdown",
   "id": "77f6b786",
   "metadata": {},
   "source": [
    "Even checking for the variable 'recommended', there isn't a significant relationship between the time that a user lets pass before he updates the review and the Weighted Vote Score; this is proven by the previous study, where both the Spearman's correlation coefficients are close to 0."
   ]
  },
  {
   "cell_type": "markdown",
   "id": "e8c6c791",
   "metadata": {},
   "source": [
    "### Histograms, Barplots, Scatterplots and Piecharts"
   ]
  },
  {
   "cell_type": "markdown",
   "id": "23119baa",
   "metadata": {},
   "source": [
    "- Histograms are used to graphically represent the distribution of a continuos variable.\n",
    "- Barplots are used to graphically represent the distribution of a discrete variable.\n",
    "- Scatterplots are used to represent all the observations on a Cartesian space, where each axis represent a variable.\n",
    "- Piecharts are used to graphically represent the proportion of the modalities of a variable."
   ]
  },
  {
   "cell_type": "markdown",
   "id": "01cf7d07",
   "metadata": {},
   "source": [
    "### Boxplot\n",
    "From a boxplot you can extract the median, the first quartile and the third quartile. This means you can also observe the IQR(Inter Quartile Range). Moreover, if you're considering the outliers, you can also observe the range."
   ]
  },
  {
   "cell_type": "markdown",
   "id": "070f58a2",
   "metadata": {},
   "source": [
    "At last after dropping some rows we check the data shape one more time. So from 38,747,363 rows we kept 38,745,014"
   ]
  },
  {
   "cell_type": "code",
   "execution_count": 17,
   "id": "b7536da4",
   "metadata": {},
   "outputs": [
    {
     "data": {
      "text/plain": [
       "(38745014, 24)"
      ]
     },
     "execution_count": 17,
     "metadata": {},
     "output_type": "execute_result"
    }
   ],
   "source": [
    "dataset.shape"
   ]
  },
  {
   "cell_type": "markdown",
   "id": "48a1b943",
   "metadata": {},
   "source": [
    "# Theoretical Questions\n"
   ]
  },
  {
   "cell_type": "markdown",
   "id": "379e2439",
   "metadata": {},
   "source": [
    "# TQ1\n",
    "We are given the following algorithm.\n",
    "1. What does the algorithm compute?\n",
    "2. What is asymptotically (i.e., we are asking for big-O complexity) the running time of the algorithm in the worst case, as a function of n?\n",
    "3. What is asymptotically the running time of the algorithm in the best case?\n"
   ]
  },
  {
   "cell_type": "markdown",
   "id": "6609ebb1",
   "metadata": {},
   "source": [
    "## Answer"
   ]
  },
  {
   "cell_type": "markdown",
   "id": "23fe052f",
   "metadata": {},
   "source": [
    "\n",
    "\n",
    "Given *A*, an array of integers, and *k*, an integer at most equal to the length of the array, this algorithm returns the element *s* of the array which guarantees that the number of the elements of the array at most equal to *s* is exactly *k*. This algorithm use recursion."
   ]
  },
  {
   "cell_type": "markdown",
   "id": "b0865e61",
   "metadata": {},
   "source": [
    "In the worst case the function runs exactly *n* times and the size of the array decrease by one in every step. In this case $T(n)=\\sum\\limits_{i=1}^{n} (ai + b)$ where *a* and *b* are costant. This means that $T(n)=a\\frac{n(n+1)}{2} + nb$. Asymptotically $T(n)$ is in the order of $n^2$, therefore $T(n)=O(n^2)$.\n",
    "Moreover, if you **alaways** pick the max of the array as *s*, there will be an infinite loop; fortunately this is higly improbable.\n",
    "\n",
    "In the best case, which is the case where you randomly pick the correct *s* in the first iteration of the function, the running time is in the order of *n* ( $T(n)=O(n)$ )."
   ]
  },
  {
   "cell_type": "markdown",
   "id": "717c2075",
   "metadata": {},
   "source": [
    "# TQ2\n",
    "You are given the recursive function splitSwap, which accepts an array a, an index i, and a length n."
   ]
  },
  {
   "cell_type": "markdown",
   "id": "2bd486da",
   "metadata": {},
   "source": [
    "function splitSwap(a, l, n):\n",
    "  if n <= 1:\n",
    "    return\n",
    "  splitSwap(a, l, n/2)\n",
    "  splitSwap(a, l+ n /2, n/2)\n",
    "  swapList(a, l, n)\n"
   ]
  },
  {
   "cell_type": "markdown",
   "id": "c172f4f6",
   "metadata": {},
   "source": [
    "The subroutine swapList is described here:"
   ]
  },
  {
   "cell_type": "markdown",
   "id": "7ac80351",
   "metadata": {},
   "source": [
    "function swapList(a, l, n):\n",
    "  for i = 0 to n/2:\n",
    "    tmp = a[l + i]\n",
    "    a[l + i] = a[l + n/2 + i]\n",
    "    a[l + n/2 + i] = tmp\n"
   ]
  },
  {
   "cell_type": "markdown",
   "id": "9578c484",
   "metadata": {},
   "source": [
    "1. How much running time does it take to execute splitSwap(a, 0, n)? (We want a Big O analysis.)\n",
    "2. What does this algorithm do? Is it optimal? Describe the mechanism of the algorithm in details, we do not want to know only its final result.\n",
    "\n",
    "*HINT*: Consider the scenario where len(a) and n are numbers that are a power of 2."
   ]
  },
  {
   "cell_type": "markdown",
   "id": "aab2566f",
   "metadata": {},
   "source": [
    "## Answer\n",
    "When the *splitSwap* function has the argument *l* equal to 0, assuming that the length of the array is equal to the argument *n* which is a number that is a power of 2, we recall the function exactly $2\\log_2 n$ times: everytime, till $n=1$ we divide *n* by 2 and in every run we recall the function 2 times. \n",
    "\n",
    "On the other hand the function *swaplist* is called in every run of *splitswap* and its running time is in the order of *n*.\n",
    "\n",
    "Finally we can say that the running time of *splitswap(a, 0, n)* is in the order of $n\\log n$, scilicet $T(n)=O(n\\log n)$.\n",
    "\n",
    "\n",
    "An example of the function:"
   ]
  },
  {
   "cell_type": "code",
   "execution_count": 51,
   "id": "b0c5ff6a",
   "metadata": {},
   "outputs": [],
   "source": [
    "def splitSwap(a, l, n):\n",
    "    if n <= 1:                                            #check if the size is equal to one\n",
    "        return\n",
    "    splitSwap(a, l, n//2)                                 #recalls\n",
    "    splitSwap(a, l+ n //2, n//2) \n",
    "    swapList(a, l, n)                                     #call swaplist\n",
    "\n",
    "def swapList(a, l, n):\n",
    "    for i in range(n//2):                                 #swap the values\n",
    "        tmp = a[l + i] \n",
    "        a[l + i] = a[l + n//2 + i] \n",
    "        a[l + n//2 + i] = tmp \n",
    "    print(a)"
   ]
  },
  {
   "cell_type": "code",
   "execution_count": 52,
   "id": "40a17473",
   "metadata": {},
   "outputs": [
    {
     "name": "stdout",
     "output_type": "stream",
     "text": [
      "[2, 1, 3, 4, 5, 6, 7, 8]\n",
      "[2, 1, 4, 3, 5, 6, 7, 8]\n",
      "[4, 3, 2, 1, 5, 6, 7, 8]\n",
      "[4, 3, 2, 1, 6, 5, 7, 8]\n",
      "[4, 3, 2, 1, 6, 5, 8, 7]\n",
      "[4, 3, 2, 1, 8, 7, 6, 5]\n",
      "[8, 7, 6, 5, 4, 3, 2, 1]\n"
     ]
    }
   ],
   "source": [
    "a=[1, 2, 3, 4, 5, 6, 7, 8 ]\n",
    "l=0\n",
    "n=8\n",
    "splitSwap(a, l, n)"
   ]
  },
  {
   "cell_type": "markdown",
   "id": "9113cd3b",
   "metadata": {},
   "source": [
    "This function, given an array *a*, on each step divide the array in half and swap the two new objects, till the size of the new arrays is equal to one. The output is the inverted list. This algorithm is based on the *dividi et impera* method and it works like this:\n",
    "\n",
    "$[A,B,C,D,E,F,G,H]$\n",
    "\n",
    "$[E,F,G,H] \\space [A,B,C,D]$\n",
    "\n",
    "$[G,H] \\space [E,F] \\space [C,D] \\space [A,B]$\n",
    "\n",
    "$[H] \\space [G] \\space [F] \\space [E] \\space [D] \\space [C] \\space [B] \\space [A]$\n",
    "\n",
    "Obvoiusly this is not the optim algorithm to compute the reversed array: you can easily compute it using a single for cycle:"
   ]
  },
  {
   "cell_type": "code",
   "execution_count": 54,
   "id": "8ad118d8",
   "metadata": {},
   "outputs": [],
   "source": [
    "def rev(a):\n",
    "    for i in range(len(a)//2):\n",
    "        b=a[i]\n",
    "        a[i]=a[-i-1]\n",
    "        a[-i-1]=b\n",
    "    print(a)"
   ]
  },
  {
   "cell_type": "code",
   "execution_count": 55,
   "id": "97b63558",
   "metadata": {},
   "outputs": [
    {
     "name": "stdout",
     "output_type": "stream",
     "text": [
      "[8, 7, 6, 5, 4, 3, 2, 1]\n"
     ]
    }
   ],
   "source": [
    "a=[1, 2, 3, 4, 5, 6, 7, 8 ]\n",
    "rev(a)"
   ]
  },
  {
   "cell_type": "markdown",
   "id": "acc5aedc",
   "metadata": {},
   "source": [
    "In this case $T(n)=O(n)$."
   ]
  },
  {
   "cell_type": "markdown",
   "id": "b7a13f66",
   "metadata": {},
   "source": [
    "# TQ3\n",
    "In the knapsack problem we are given n objects and each object i has a weight w_i and a value v_i. We are also given a weight budget W. The problem is to select a set of objects with total weight bounded by W that maximized the sum of their values. The following are three natural heuristics:\n",
    "\n",
    "- Order them in increasing order of weight and then visit them sequentially, adding them to the solution as long as the budget is not exceeded\n",
    "- Order them in decreasing order of values, and then visit them sequentially, adding them to the solution if the budget is not exceeded\n",
    "- Order them in decreasing relative value (v_i / w_i), and then visit them sequentially, adding them to the solution if the budget is not exceeded\n",
    "\n",
    "For each of the heuristics, provide a counterexample, that is, an example of a problem instance in which the heuristic fails to provide the optimal solution."
   ]
  },
  {
   "cell_type": "markdown",
   "id": "b8c1b526",
   "metadata": {},
   "source": [
    "## Answer\n",
    "\n",
    "### Case1: \n",
    "\n",
    "Order the objects in increasing order of weight and then visit them sequentially, adding them to the solution as long as the budget is not exceeded.\n",
    "\n",
    "**W**=100\n",
    "\n",
    "| Obj | Weight | Value |\n",
    "| :-: | :-: | :-: |\n",
    "| 1 | 1 | 8 |\n",
    "| 2 | 20 | 1 |\n",
    "| 3 | 22 | 11 |\n",
    "| 4 | 26 | 11 |\n",
    "| 5 | 30 | 5 |\n",
    "| 6 | 33 | 64 |\n",
    "| 7 | 40 | 45 |\n",
    "| 8 | 46 | 33 |\n",
    "| 9 | 60 | 49 |\n",
    "| 10 | 65 | 96 |\n",
    "\n",
    "In this case the heuristic will fail to find the best solution: while the best solution for this knapsack problem is given by the objects 6 and 10 (with a total value of 160), this heuristic will return the objects 1, 2, 3, 4 and 5 as solution (with a total value of 36). In fact, if the value of the objects increase exponentially at the increasinig of their weight, this method will most likely fail.\n",
    "\n",
    "### Case2: \n",
    "\n",
    "Order the objects in decreasing order of values, and then visit them sequentially, adding them to the solution if the budget is not exceeded.\n",
    "\n",
    "**W**=100\n",
    "\n",
    "| Obj | Weight | Value |\n",
    "| :-: | :-: | :-: |\n",
    "| 1 | 87 | 71 |\n",
    "| 2 | 75 | 69 |\n",
    "| 3 | 69 | 67 |\n",
    "| 4 | 60 | 66 |\n",
    "| 5 | 30 | 65 |\n",
    "| 6 | 21 | 55 |\n",
    "| 7 | 16 | 40 |\n",
    "| 8 | 13 | 33 |\n",
    "| 9 | 10 | 32 |\n",
    "| 10 | 8 | 31 |\n",
    "\n",
    "In this case the heuristic will fail to find the best solution: the heuristic will return the objects 1 and 8 (with a total value of 104) as result while the best solution is given by the objects 5, 6, 7, 8, 9 and 10 (with a total value of 256). In fact, if the value of the objects doesn't decrease as much as the weight (linearly), this heuristic will most likely fail.\n",
    "\n",
    "### Case3: \n",
    "\n",
    "Order the objects in decreasing relative value ($\\frac{value_i}{weight_i}$), and then visit them sequentially, adding them to the solution if the budget is not exceeded.\n",
    "\n",
    "**W**=100\n",
    "\n",
    "| Obj | Weight | Value | $\\frac{Value}{Weight}$ |\n",
    "| :-: | :-: | :-: | :-:|\n",
    "| 1 | 90 | 125 | 1.3$\\overline8$ |\n",
    "| 2 | 50 | 67 | 1.34 |\n",
    "| 3 | 30 | 40 | 1.$\\overline3$ |\n",
    "| 4 | 20 | 24 | 1.2 |\n",
    "| 5 | 99 | 99 | 1 |\n",
    "| 6 | 100 | 90 | 0.9 |\n",
    "| 7 | 80 | 60 | 0.75 |\n",
    "| 8 | 90 | 45 | 0.5 |\n",
    "| 9 | 100 | 20 | 0.2 |\n",
    "| 10 | 10 | 1 | 0.1 |\n",
    "\n",
    "In this case the heuristic will fail to find the best solution: while the best solution is given by the objects 2, 3 and 4 (with a total value of 131) the heuristic will return the objects 1 and 10 as solution (with a total value of 126). In fact, while in the best solution the factors $\\frac{Value}{Weight}$ of the objects are pretty close (numerically speaking), the heuristic will take two objects which have a big gap between the two factors."
   ]
  }
 ],
 "metadata": {
  "kernelspec": {
   "display_name": "Python 3 (ipykernel)",
   "language": "python",
   "name": "python3"
  },
  "language_info": {
   "codemirror_mode": {
    "name": "ipython",
    "version": 3
   },
   "file_extension": ".py",
   "mimetype": "text/x-python",
   "name": "python",
   "nbconvert_exporter": "python",
   "pygments_lexer": "ipython3",
   "version": "3.9.6"
  }
 },
 "nbformat": 4,
 "nbformat_minor": 5
}
